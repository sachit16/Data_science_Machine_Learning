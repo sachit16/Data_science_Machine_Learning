{
 "cells": [
  {
   "cell_type": "code",
   "execution_count": null,
   "id": "aa1e739f-f098-4d88-bc3d-4aa732a33f9f",
   "metadata": {},
   "outputs": [],
   "source": [
    "Q1. what is multithreading in python? why is it used? Name the module used to handle threads in python"
   ]
  },
  {
   "cell_type": "code",
   "execution_count": null,
   "id": "c7b4a145-cee4-4d4c-a687-19abb848fd7e",
   "metadata": {},
   "outputs": [],
   "source": [
    "**Multithreading in Python:**\n",
    "Multithreading in Python refers to the concurrent execution of two or more threads. A thread is the smallest unit of a CPU's execution, and multithreading allows multiple threads to run concurrently within a single program. Python provides a built-in **`threading`** module to work with threads.\n",
    "\n",
    "**Why Multithreading is Used:**\n",
    "1. **Concurrency:** Multithreading allows multiple tasks to be performed simultaneously, improving the program's performance.\n",
    "2. **Responsiveness:** Multithreading can enhance user experience by allowing the application to respond to user input while performing other tasks in the background.\n",
    "3. **Utilization of Multi-Core Processors:** On systems with multi-core processors, multithreading can utilize these cores effectively, leading to better performance.\n",
    "\n",
    "**Module for Handling Threads in Python:**\n",
    "The module used to handle threads in Python is **`threading`**.\n",
    "\n",
    "Here's a brief overview of how you can use the `threading` module in Python:\n",
    "\n"
   ]
  },
  {
   "cell_type": "code",
   "execution_count": 1,
   "id": "8cbc1aa0-064d-4e5b-8ad0-2b3d2499b0cb",
   "metadata": {},
   "outputs": [
    {
     "name": "stdout",
     "output_type": "stream",
     "text": [
      "1\n",
      "2\n",
      "3\n",
      "4\n",
      "5\n",
      "Thread execution completed.\n"
     ]
    }
   ],
   "source": [
    "\n",
    "import threading\n",
    "\n",
    "# Define a function to be executed by the thread\n",
    "def print_numbers():\n",
    "    for i in range(1, 6):\n",
    "        print(i)\n",
    "\n",
    "# Create a thread\n",
    "thread = threading.Thread(target=print_numbers)\n",
    "\n",
    "# Start the thread\n",
    "thread.start()\n",
    "\n",
    "# Wait for the thread to finish\n",
    "thread.join()\n",
    "\n",
    "print(\"Thread execution completed.\")\n",
    "\n",
    "\n",
    "#In this example, the `threading` module is used to create and start a new thread that executes the `print_numbers` function. The `start()` method initiates the thread, and `join()` ensures that the program waits for the thread to finish execution before moving on to the next steps."
   ]
  },
  {
   "cell_type": "code",
   "execution_count": null,
   "id": "e00806f3-38e7-4941-8ca9-5dfd37f096e3",
   "metadata": {},
   "outputs": [],
   "source": [
    "Q2) why threading module used? write the use of the following functions\n",
    "1) activeCount()\n",
    "2)currentThread()\n",
    "3)enumerate()"
   ]
  },
  {
   "cell_type": "code",
   "execution_count": null,
   "id": "d9077b8f-1073-49e4-83b1-66013c0f3958",
   "metadata": {},
   "outputs": [],
   "source": [
    "**Threading Module Usage and Functions:**\n",
    "\n",
    "1) **`activeCount()`:**\n",
    "   - **Usage:** The `activeCount()` function is used to get the number of Thread objects currently alive.\n",
    "   \n",
    "   \n",
    "    \n",
    "\n",
    "2) **`currentThread()`:**\n",
    "   - **Usage:** The `currentThread()` function returns the current Thread object, corresponding to the caller's thread of control.\n",
    "\n",
    "    \n",
    "   \n",
    "\n",
    "3) **`enumerate()`:**\n",
    "   - **Usage:** The `enumerate()` function returns a list of all Thread objects currently alive. The list includes the current Thread object and all active daemon threads.\n",
    "  \n",
    "   \n",
    "  \n",
    "\n",
    "**Explanation:**\n",
    "- **`activeCount()`:** It's used to determine how many Thread objects are currently active or alive. This can be useful for monitoring the concurrency of your program.\n",
    "- **`currentThread()`:** This function returns the Thread object corresponding to the caller's thread of control. It's often used to get information about the currently executing thread.\n",
    "- **`enumerate()`:** The `enumerate()` function provides a list of all active threads. This can be handy for debugging or monitoring purposes when you need to inspect all threads currently running in your program."
   ]
  },
  {
   "cell_type": "code",
   "execution_count": 3,
   "id": "773a8fe6-6f0b-49b7-944e-eed8b11cbe9c",
   "metadata": {},
   "outputs": [
    {
     "name": "stdout",
     "output_type": "stream",
     "text": [
      "Active Threads: 8\n"
     ]
    },
    {
     "name": "stderr",
     "output_type": "stream",
     "text": [
      "/tmp/ipykernel_77/4142442051.py:3: DeprecationWarning: activeCount() is deprecated, use active_count() instead\n",
      "  print(\"Active Threads:\", threading.activeCount())\n"
     ]
    }
   ],
   "source": [
    " \n",
    "import threading\n",
    "     \n",
    "print(\"Active Threads:\", threading.activeCount())"
   ]
  },
  {
   "cell_type": "code",
   "execution_count": 4,
   "id": "ff0d4b31-f9f7-4682-a576-feeaa338e646",
   "metadata": {},
   "outputs": [
    {
     "name": "stdout",
     "output_type": "stream",
     "text": [
      "Current Thread: <_MainThread(MainThread, started 139819293767488)>\n"
     ]
    },
    {
     "name": "stderr",
     "output_type": "stream",
     "text": [
      "/tmp/ipykernel_77/2000800667.py:2: DeprecationWarning: currentThread() is deprecated, use current_thread() instead\n",
      "  current_thread = threading.currentThread()\n"
     ]
    }
   ],
   "source": [
    "import threading\n",
    "current_thread = threading.currentThread()\n",
    "print(\"Current Thread:\", current_thread)\n",
    "     "
   ]
  },
  {
   "cell_type": "code",
   "execution_count": 5,
   "id": "ec54faa3-a265-4a15-ae2d-22908a7803cd",
   "metadata": {},
   "outputs": [
    {
     "name": "stdout",
     "output_type": "stream",
     "text": [
      "List of Active Threads:\n",
      "<_MainThread(MainThread, started 139819293767488)>\n",
      "<Thread(IOPub, started daemon 139819223238208)>\n",
      "<Heartbeat(Heartbeat, started daemon 139819214845504)>\n",
      "<Thread(Thread-3 (_watch_pipe_fd), started daemon 139819189667392)>\n",
      "<Thread(Thread-4 (_watch_pipe_fd), started daemon 139819181274688)>\n",
      "<ControlThread(Control, started daemon 139818835113536)>\n",
      "<HistorySavingThread(IPythonHistorySavingThread, started 139818826720832)>\n",
      "<ParentPollerUnix(Thread-2, started daemon 139818818328128)>\n"
     ]
    }
   ],
   "source": [
    "import threading\n",
    "     \n",
    "thread_list = threading.enumerate()\n",
    "print(\"List of Active Threads:\")\n",
    "for thread in thread_list:\n",
    "    print(thread)\n",
    "     "
   ]
  },
  {
   "cell_type": "code",
   "execution_count": null,
   "id": "4d447ac4-4353-4ed5-afad-9bceffd72d4e",
   "metadata": {},
   "outputs": [],
   "source": [
    "3. Explain the following functions\n",
    "1)run()\n",
    " 2)start()\n",
    " 3)join()\n",
    "4)isAlive()"
   ]
  },
  {
   "cell_type": "code",
   "execution_count": null,
   "id": "5d12e9fd-7ee9-4215-b662-39a73d0119d2",
   "metadata": {},
   "outputs": [],
   "source": [
    "**Explanation of Python Threading Functions:**\n",
    "\n",
    "1) **`run()`:**\n",
    "   - **Usage:** The `run()` method contains the code that will be executed when the thread is started. It is called when you call `start()` on a Thread object.\n",
    "\n",
    "\n",
    "2) **`start()`:**\n",
    "   - **Usage:** The `start()` method starts a new thread by calling the `run()` method. It initializes and starts the thread. You should call this method to begin the execution of the thread.\n",
    "\n",
    "     \n",
    "\n",
    "3) **`join()`:**\n",
    "   - **Usage:** The `join()` method blocks the calling thread until the thread represented by the object has terminated. It waits for the thread to complete its execution.\n",
    " \n",
    "\n",
    "4) **`isAlive()`:**\n",
    "   - **Usage:** The `isAlive()` method returns `True` if the thread is currently executing, and `False` otherwise.\n",
    " \n",
    "  \n",
    "\n",
    "**Explanation:**\n",
    "- **`run()`:** Contains the code to be executed when the thread is started. You need to override this method in your custom thread class.\n",
    "- **`start()`:** Initiates and starts the execution of the thread by calling its `run()` method.\n",
    "- **`join()`:** Blocks the calling thread until the thread it's called on has finished execution.\n",
    "- **`isAlive()`:** Checks if the thread is currently executing (`True`) or has finished (`False`)."
   ]
  },
  {
   "cell_type": "code",
   "execution_count": 15,
   "id": "e23ecf47-c03b-40c6-99a2-9dcce70aeb18",
   "metadata": {},
   "outputs": [
    {
     "name": "stdout",
     "output_type": "stream",
     "text": [
      "Thread is running...\n"
     ]
    }
   ],
   "source": [
    "\n",
    "import threading\n",
    "     \n",
    "class MyThread(threading.Thread):\n",
    "    def run(self):\n",
    "        print(\"Thread is running...\")\n",
    "     \n",
    "my_thread = MyThread()\n",
    "my_thread.start()  # This will automatically call run() method.\n",
    "     "
   ]
  },
  {
   "cell_type": "code",
   "execution_count": 16,
   "id": "c2d7daa4-dcfb-45f0-ba97-f5f10aaae137",
   "metadata": {},
   "outputs": [
    {
     "name": "stdout",
     "output_type": "stream",
     "text": [
      "Thread is running...\n"
     ]
    }
   ],
   "source": [
    "import threading\n",
    "     \n",
    "class MyThread(threading.Thread):\n",
    "    def run(self):\n",
    "        print(\"Thread is running...\")\n",
    "     \n",
    "my_thread = MyThread()\n",
    "my_thread.start()  # This will start the thread and execute run() method.\n",
    "     "
   ]
  },
  {
   "cell_type": "code",
   "execution_count": 17,
   "id": "929ee8da-e8ca-4c5b-94a5-470b99343401",
   "metadata": {},
   "outputs": [
    {
     "name": "stdout",
     "output_type": "stream",
     "text": [
      "Thread is running...\n",
      "Thread is done.\n",
      "Main thread continues...\n"
     ]
    }
   ],
   "source": [
    "\n",
    "import threading\n",
    "import time\n",
    "     \n",
    "class MyThread(threading.Thread):\n",
    "    def run(self):\n",
    "        print(\"Thread is running...\")\n",
    "        time.sleep(2)\n",
    "        print(\"Thread is done.\")\n",
    "     \n",
    "my_thread = MyThread()\n",
    "my_thread.start()\n",
    "my_thread.join()  # Main thread waits until my_thread completes its execution.\n",
    "print(\"Main thread continues...\")\n",
    "     "
   ]
  },
  {
   "cell_type": "code",
   "execution_count": 19,
   "id": "883a6ecf-3477-446a-a9a5-42424ba52a93",
   "metadata": {},
   "outputs": [
    {
     "name": "stdout",
     "output_type": "stream",
     "text": [
      "Thread is alive? False\n",
      "Thread is running...\n",
      "Thread is alive? False\n"
     ]
    }
   ],
   "source": [
    "import threading\n",
    "\n",
    "class MyThread(threading.Thread):\n",
    "    def run(self):\n",
    "        print(\"Thread is running...\")\n",
    "\n",
    "my_thread = MyThread()\n",
    "print(\"Thread is alive?\", my_thread.is_alive())  # Output: False (not started yet)\n",
    "my_thread.start()\n",
    "print(\"Thread is alive?\", my_thread.is_alive())  # Output: True (currently executing)\n"
   ]
  },
  {
   "cell_type": "code",
   "execution_count": null,
   "id": "49a0a07b-4218-480d-9568-14b1c49a45d7",
   "metadata": {},
   "outputs": [],
   "source": [
    "Q4. write a python program to create two threads. Thread one must print the list of squares and thread\n",
    "two must print the list of cubes"
   ]
  },
  {
   "cell_type": "code",
   "execution_count": 20,
   "id": "02175397-17a9-41fc-b63c-6d5932c73c8b",
   "metadata": {},
   "outputs": [
    {
     "name": "stdout",
     "output_type": "stream",
     "text": [
      "Square of 1 is 1\n",
      "Square of 2 is 4\n",
      "Square of 3 is 9\n",
      "Square of 4 is 16\n",
      "Square of 5 is 25\n",
      "Cube of 1 is 1\n",
      "Cube of 2 is 8\n",
      "Cube of 3 is 27\n",
      "Cube of 4 is 64\n",
      "Cube of 5 is 125\n",
      "Threads execution completed.\n"
     ]
    }
   ],
   "source": [
    "import threading\n",
    "\n",
    "def print_squares():\n",
    "    for i in range(1, 6):\n",
    "        print(f\"Square of {i} is {i*i}\")\n",
    "\n",
    "def print_cubes():\n",
    "    for i in range(1, 6):\n",
    "        print(f\"Cube of {i} is {i*i*i}\")\n",
    "\n",
    "# Create two threads\n",
    "thread1 = threading.Thread(target=print_squares)\n",
    "thread2 = threading.Thread(target=print_cubes)\n",
    "\n",
    "# Start the threads\n",
    "thread1.start()\n",
    "thread2.start()\n",
    "\n",
    "# Wait for both threads to finish\n",
    "thread1.join()\n",
    "thread2.join()\n",
    "\n",
    "print(\"Threads execution completed.\")\n"
   ]
  },
  {
   "cell_type": "code",
   "execution_count": null,
   "id": "1627c7ab-bbb0-42ad-9669-ce95e355179d",
   "metadata": {},
   "outputs": [],
   "source": [
    "Q5. State advantages and disadvantages of multithreading"
   ]
  },
  {
   "cell_type": "code",
   "execution_count": null,
   "id": "abb9d2ac-48da-4038-b039-06178c9bab44",
   "metadata": {},
   "outputs": [],
   "source": [
    "Advantages of Multithreading:\n",
    "\n",
    "1. **Improved Performance:** Multithreading can lead to improved performance by allowing concurrent execution of tasks. This is especially useful in applications where certain tasks can be executed independently and don't rely on each other's output.\n",
    "\n",
    "2. **Responsiveness:** Multithreading keeps the application responsive. For example, in graphical user interfaces (GUIs), the user interface can remain active and responsive even if a time-consuming task is being performed in a separate thread.\n",
    "\n",
    "3. **Resource Sharing:** Threads within the same process share the same memory space, making it easier to share data and resources among threads. This can lead to efficient utilization of resources.\n",
    "\n",
    "4. **Simplified Program Structure:** Multithreading can simplify the program structure, especially in applications that require handling multiple tasks simultaneously. It can lead to cleaner and more manageable code.\n",
    "\n",
    "5. **Parallelism:** Multithreading allows parallelism, where multiple threads can execute different parts of a task concurrently on multiple CPUs or CPU cores. This can significantly speed up the execution of CPU-bound tasks.\n",
    "\n",
    "Disadvantages of Multithreading:\n",
    "\n",
    "1. **Complexity:** Multithreading introduces complexity into programming. Synchronization mechanisms like locks and semaphores are required to avoid issues like race conditions and deadlocks. Managing these can be challenging.\n",
    "\n",
    "2. **Difficulty in Debugging:** Multithreaded programs are often harder to debug due to their non-deterministic nature. Issues like race conditions might not appear consistently and can be difficult to reproduce.\n",
    "\n",
    "3. **Resource Intensive:** Creating and managing threads require system resources. Creating too many threads can lead to high resource utilization, which might degrade the performance instead of improving it.\n",
    "\n",
    "4. **Synchronization Overhead:** When multiple threads access shared resources, synchronization mechanisms are necessary to avoid conflicts. This synchronization overhead can sometimes negate the performance benefits of multithreading.\n",
    "\n",
    "5. **Security Risks:** Multithreading can introduce security risks like data corruption or unauthorized access if not managed properly. Proper synchronization and access control are crucial to prevent security vulnerabilities.\n",
    "\n",
    "In summary, while multithreading can significantly enhance the performance and responsiveness of applications, it should be implemented carefully, considering the complexity and potential challenges associated with it. Proper synchronization and error handling mechanisms are essential to harness the benefits of multithreading effectively."
   ]
  },
  {
   "cell_type": "code",
   "execution_count": null,
   "id": "b501f7b1-ca76-44a5-9d59-28a4590f8ba1",
   "metadata": {},
   "outputs": [],
   "source": [
    "Q6. Explain deadlocks and race conditions."
   ]
  },
  {
   "cell_type": "code",
   "execution_count": null,
   "id": "60355e3f-edbe-40e5-a0c0-c2ac6d61ca23",
   "metadata": {},
   "outputs": [],
   "source": [
    "**Deadlocks:**\n",
    "\n",
    "A deadlock in multithreading occurs when two or more threads are unable to proceed because each is waiting for the other to release a resource. In other words, a set of processes or threads are blocked because each process holds a resource and is waiting for another resource acquired by some other process. Deadlocks can occur in a multithreaded environment due to the improper use of synchronization mechanisms like locks.\n",
    "\n",
    "For example, consider two threads, Thread A and Thread B, both needing access to Resource 1 and Resource 2. If Thread A acquires Resource 1 and waits for Resource 2, while Thread B acquires Resource 2 and waits for Resource 1, a deadlock situation arises. Neither thread can proceed because each is holding a resource the other needs, resulting in a deadlock.\n",
    "\n",
    "**Race Conditions:**\n",
    "\n",
    "A race condition occurs in a multithreaded environment when the behavior of a program depends on the relative timing of events, specifically the order of execution of operations on shared resources. Race conditions can lead to unpredictable behavior and bugs in the program.\n",
    "\n",
    "For example, consider two threads, Thread A and Thread B, both reading and writing to a shared variable. If both threads read the variable simultaneously, modify their local copies, and write the results back, the final state of the variable depends on the order of execution. If Thread A reads the variable first, modifies it, and writes it back, and then Thread B reads the variable, modifies it, and writes it back, the changes made by Thread A are lost, leading to incorrect results.\n",
    "\n",
    "To prevent race conditions, synchronization mechanisms like locks, semaphores, and mutexes are used. These mechanisms ensure that only one thread can access the shared resource at a time, preventing multiple threads from simultaneously modifying the resource's state.\n",
    "\n",
    "In summary, deadlocks occur when threads are blocked waiting for each other to release resources, while race conditions occur when the behavior of a program depends on the timing and order of execution of threads accessing shared resources. Both issues can be addressed with proper synchronization techniques and careful design of multithreaded programs."
   ]
  }
 ],
 "metadata": {
  "kernelspec": {
   "display_name": "Python 3 (ipykernel)",
   "language": "python",
   "name": "python3"
  },
  "language_info": {
   "codemirror_mode": {
    "name": "ipython",
    "version": 3
   },
   "file_extension": ".py",
   "mimetype": "text/x-python",
   "name": "python",
   "nbconvert_exporter": "python",
   "pygments_lexer": "ipython3",
   "version": "3.10.8"
  }
 },
 "nbformat": 4,
 "nbformat_minor": 5
}
