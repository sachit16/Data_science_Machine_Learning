{
 "cells": [
  {
   "cell_type": "markdown",
   "id": "95dfc20f-240c-4b25-a1e4-d3e4e70c7e1d",
   "metadata": {},
   "source": [
    "Q1, Create a vehicle class with an init method having instance variables as name_of_vehicle, max_speed\n",
    "and average_of_vehicle."
   ]
  },
  {
   "cell_type": "code",
   "execution_count": 3,
   "id": "9c4a0764-a2ba-45a5-94c6-9833f19bc216",
   "metadata": {},
   "outputs": [],
   "source": [
    "class vehicle:\n",
    "    def __init__(self, name_of_vehicle,max_speed, average_of_vehicle):\n",
    "        self.name_of_vehicle=name_of_vehicle\n",
    "        self.max_speed=max_speed\n",
    "        self.average_of_vehicle=average_of_vehicle\n",
    "    \n",
    "        \n",
    "    "
   ]
  },
  {
   "cell_type": "markdown",
   "id": "cc082f8d-b344-42f2-b574-7f3572a98872",
   "metadata": {},
   "source": [
    "Q2. Create a child class car from the vehicle class created in Que 1, which will inherit the vehicle class.\n",
    "Create a method named seating_capacity which takes capacity as an argument and returns the name of\n",
    "the vehicle and its seating capacity."
   ]
  },
  {
   "cell_type": "code",
   "execution_count": 13,
   "id": "37faec90-dcdd-4d12-b587-2dbac8a02e95",
   "metadata": {},
   "outputs": [],
   "source": [
    "class car(vehicle):\n",
    "    def __init__(self, name_of_vehicle,max_speed, average_of_vehicle):\n",
    "        super().__init__( name_of_vehicle,max_speed, average_of_vehicle)\n",
    "        \n",
    "    def seating_capacity(self,capacity):\n",
    "        print(f\"The {self.name_of_vehicle} Has Capacity of {capacity} Passenger\")\n",
    "        \n",
    "    "
   ]
  },
  {
   "cell_type": "code",
   "execution_count": 14,
   "id": "bd297273-fcdc-41a1-9594-74057d719506",
   "metadata": {},
   "outputs": [],
   "source": [
    "car1=car(\"LAMBORGHINI\",220,190)"
   ]
  },
  {
   "cell_type": "code",
   "execution_count": 15,
   "id": "76d307b1-3679-4308-9478-62f289b42420",
   "metadata": {},
   "outputs": [
    {
     "name": "stdout",
     "output_type": "stream",
     "text": [
      "Car Name=LAMBORGHINI\n",
      "Max Speed is  =220\n",
      "Average is =190\n"
     ]
    }
   ],
   "source": [
    "print(f\"Car Name={car1.name_of_vehicle}\")\n",
    "print(f\"Max Speed is  ={car1.max_speed}\")\n",
    "print(f\"Average is ={car1.average_of_vehicle}\")"
   ]
  },
  {
   "cell_type": "code",
   "execution_count": 16,
   "id": "b4884f5e-913c-4865-8dfa-ed27f02077e7",
   "metadata": {},
   "outputs": [
    {
     "name": "stdout",
     "output_type": "stream",
     "text": [
      "The LAMBORGHINI Has Capacity of 5 Passenger\n"
     ]
    }
   ],
   "source": [
    "car1.seating_capacity(5)"
   ]
  },
  {
   "cell_type": "markdown",
   "id": "ee37d1a1-9367-4af1-aebe-11e7949a814e",
   "metadata": {},
   "source": [
    "Q3. What is multiple inheritance? Write a python code to demonstrate multiple inheritance."
   ]
  },
  {
   "cell_type": "code",
   "execution_count": 17,
   "id": "65140ca6-7c92-445a-af1a-d3fa4bd4ebd1",
   "metadata": {},
   "outputs": [],
   "source": [
    "class vehicle:\n",
    "    def __init__(self,name):\n",
    "        self.Name=name\n",
    "    def show_info(self):\n",
    "        print(f\"Name of the Vehicle is-{self.Name}\")\n"
   ]
  },
  {
   "cell_type": "code",
   "execution_count": 18,
   "id": "42c4f6c7-4ed7-4cca-acfa-179210888cf9",
   "metadata": {},
   "outputs": [],
   "source": [
    "class Engine:\n",
    "    def __init__(self,EnginE_type):\n",
    "        self.EnginE_type=EnginE_type\n",
    "    def show_info(self):\n",
    "        print(f\"Engine type is -{self.EnginE_type}\")"
   ]
  },
  {
   "cell_type": "code",
   "execution_count": 32,
   "id": "8b1290d5-c8af-4d8b-9c5f-7405ca3a8434",
   "metadata": {},
   "outputs": [],
   "source": [
    "class Car(vehicle,Engine):\n",
    "    def __init__(self,Name,Engine_type,Color,model):\n",
    "        vehicle.__init__(self,Name)\n",
    "        Engine.__init__(self,Engine_type)\n",
    "        self.color=Color\n",
    "        self.model=model\n",
    "    def show_info(self):\n",
    "        vehicle.show_info(self)\n",
    "        Engine.show_info(self)\n",
    "        print(f\"Color of Engine is {self.color}\")\n",
    "        print(f\"Engine model is {self.model}\")"
   ]
  },
  {
   "cell_type": "code",
   "execution_count": 33,
   "id": "1d501ca1-9776-46d4-9e64-96b4e7ccc205",
   "metadata": {},
   "outputs": [],
   "source": [
    "car1=Car(\"Alto\",\"Petrol\",\"Black\",\"K-10\")"
   ]
  },
  {
   "cell_type": "code",
   "execution_count": 34,
   "id": "de9a2567-34bf-4c93-8dfd-87efe94774ff",
   "metadata": {},
   "outputs": [
    {
     "name": "stdout",
     "output_type": "stream",
     "text": [
      "Name of the Vehicle is-Alto\n",
      "Engine type is -Petrol\n",
      "Color of Engine is Black\n",
      "Engine model is K-10\n"
     ]
    }
   ],
   "source": [
    "car1.show_info()"
   ]
  },
  {
   "cell_type": "markdown",
   "id": "1280cf08-b85e-4847-ba66-2943b6102659",
   "metadata": {},
   "source": [
    "Q4. What are getter and setter in python? Create a class and create a getter and a setter method in this\n",
    "class."
   ]
  },
  {
   "cell_type": "code",
   "execution_count": null,
   "id": "8f46fde0-b795-40da-8310-24d2995fd707",
   "metadata": {},
   "outputs": [],
   "source": [
    " getters and setters are methods used to access and modify the private \n",
    "    attributes (variables) of a class. They provide control over how attributes are accessed and modified. \n",
    "    Getters are used to retrieve the value of a private attribute, and setters are used to modify the value \n",
    "    of a private attribute, typically with some validation logic."
   ]
  },
  {
   "cell_type": "code",
   "execution_count": 55,
   "id": "05b3babc-1416-4c80-ac1d-8e335fcbe155",
   "metadata": {},
   "outputs": [],
   "source": [
    "class Sample:\n",
    "    def __init__(self,Attribute):\n",
    "        self.__Private_Attribute=Attribute\n",
    "    def Setter(self,Attribute):\n",
    "        self.__Private_Attribute=Attribute\n",
    "    def Getter(self):\n",
    "        print(f\"The Value of the private Attribute {self.__Private_Attribute}\")"
   ]
  },
  {
   "cell_type": "code",
   "execution_count": 56,
   "id": "ed07856f-e141-4167-b4fb-5efebd8a60ae",
   "metadata": {},
   "outputs": [],
   "source": [
    "S=Sample(50)"
   ]
  },
  {
   "cell_type": "code",
   "execution_count": 57,
   "id": "3cccf045-cb68-49f3-bdb4-6dbaf074f017",
   "metadata": {},
   "outputs": [
    {
     "name": "stdout",
     "output_type": "stream",
     "text": [
      "The Value of the private Attribute 50\n"
     ]
    }
   ],
   "source": [
    "S.Getter()"
   ]
  },
  {
   "cell_type": "code",
   "execution_count": 58,
   "id": "c8ce5a04-1eec-4ff0-ac72-924a5789ca14",
   "metadata": {},
   "outputs": [],
   "source": [
    "S.Setter(1)"
   ]
  },
  {
   "cell_type": "code",
   "execution_count": 59,
   "id": "9b176d62-7cf5-4cca-940c-1a645e33917a",
   "metadata": {},
   "outputs": [
    {
     "name": "stdout",
     "output_type": "stream",
     "text": [
      "The Value of the private Attribute 1\n"
     ]
    }
   ],
   "source": [
    "S.Getter()"
   ]
  },
  {
   "cell_type": "code",
   "execution_count": null,
   "id": "0819c54e-3ac3-4433-8d55-f5e1ec5099cc",
   "metadata": {},
   "outputs": [],
   "source": []
  },
  {
   "cell_type": "markdown",
   "id": "4f00d3ad-df38-4abd-8f8d-e1446b4bf856",
   "metadata": {},
   "source": [
    "Q5.What is method overriding in python? Write a python code to demonstrate method overriding."
   ]
  },
  {
   "cell_type": "code",
   "execution_count": null,
   "id": "d0a8c114-c9b5-4e1e-ba13-65af9a9e3ca7",
   "metadata": {},
   "outputs": [],
   "source": [
    "Method overriding in Python allows a subclass to provide a specific implementation \n",
    "of a method that is already defined in its superclass. When a method in a subclass has the same name, same parameters,\n",
    "and same return type as a method in its superclass, the method in the subclass overrides the method in the superclass. \n",
    "This allows the subclass to provide its own implementation of the method."
   ]
  },
  {
   "cell_type": "code",
   "execution_count": 61,
   "id": "712be83e-25a0-42cc-92ec-7ca07b443d0c",
   "metadata": {},
   "outputs": [],
   "source": [
    "class Aminal:\n",
    "    def sound(self):\n",
    "        print(\"Animal Also makes a sound\")"
   ]
  },
  {
   "cell_type": "code",
   "execution_count": 62,
   "id": "8a1f603a-b474-4961-bf08-02c322c1324c",
   "metadata": {},
   "outputs": [],
   "source": [
    "class cat(Aminal):\n",
    "    def sound(self):\n",
    "        print(\"Cat make sound Mau Mau\")"
   ]
  },
  {
   "cell_type": "code",
   "execution_count": 64,
   "id": "acfa9bfa-bb6d-406f-a89a-ffa9906a70b8",
   "metadata": {},
   "outputs": [],
   "source": [
    "class Dog(Aminal):\n",
    "    def sound(self):\n",
    "        print(\"Dog make sound Bhau Bhau\")"
   ]
  },
  {
   "cell_type": "code",
   "execution_count": 65,
   "id": "1cde78f6-898d-4c18-a337-4fff8fcee2b7",
   "metadata": {},
   "outputs": [],
   "source": [
    "Dog1=Dog()"
   ]
  },
  {
   "cell_type": "code",
   "execution_count": 66,
   "id": "b533ebf3-8a4d-45ba-ab05-6a99a7ac7e5d",
   "metadata": {},
   "outputs": [
    {
     "name": "stdout",
     "output_type": "stream",
     "text": [
      "Dog make sound Bhau Bhau\n"
     ]
    }
   ],
   "source": [
    "Dog1.sound()"
   ]
  },
  {
   "cell_type": "code",
   "execution_count": null,
   "id": "c8e6eb5a-0c0d-40ed-9a68-6f6557c76d4e",
   "metadata": {},
   "outputs": [],
   "source": [
    "Cat1=ca"
   ]
  }
 ],
 "metadata": {
  "kernelspec": {
   "display_name": "Python 3 (ipykernel)",
   "language": "python",
   "name": "python3"
  },
  "language_info": {
   "codemirror_mode": {
    "name": "ipython",
    "version": 3
   },
   "file_extension": ".py",
   "mimetype": "text/x-python",
   "name": "python",
   "nbconvert_exporter": "python",
   "pygments_lexer": "ipython3",
   "version": "3.10.8"
  }
 },
 "nbformat": 4,
 "nbformat_minor": 5
}
