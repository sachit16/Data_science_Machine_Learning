{
 "cells": [
  {
   "cell_type": "markdown",
   "id": "9001adff-542b-4043-881a-a3a5938486e5",
   "metadata": {},
   "source": [
    "Q1. What is exception in python? Write the differen,e between Ex,eptions and syntax error"
   ]
  },
  {
   "cell_type": "code",
   "execution_count": null,
   "id": "e1ef3c13-5d6a-49da-ac36-1329fc599d92",
   "metadata": {},
   "outputs": [],
   "source": [
    "In Python, an exception is an event that occurs during the execution of a program and disrupts the normal flow of the program's instructions. When a Python script encounters a situation that it cannot cope with, it raises an exception. Exceptions are objects that represent errors. They can be standard exceptions provided by Python or custom exceptions defined by users.\n",
    "\n",
    "The main differences between exceptions and syntax errors in Python are:\n",
    "\n",
    "1. Syntax Errors:\n",
    "   - Syntax errors, also known as parsing errors, occur when the parser detects an incorrect statement syntax. These errors prevent the script from running because the code cannot be compiled.\n",
    "   - Examples of syntax errors include missing colons at the end of a statement block, mismatched parentheses, or incorrect indentation.\n",
    "   - Syntax errors are detected by the Python interpreter before the program is executed, making it impossible to run the script until the errors are fixed.\n",
    "\n",
    "   \n",
    "  \n",
    "   \n"
   ]
  },
  {
   "cell_type": "code",
   "execution_count": 1,
   "id": "ac550787-c233-43cb-8b3d-28dc7d04001e",
   "metadata": {},
   "outputs": [
    {
     "ename": "SyntaxError",
     "evalue": "incomplete input (2688212756.py, line 1)",
     "output_type": "error",
     "traceback": [
      "\u001b[0;36m  Cell \u001b[0;32mIn[1], line 1\u001b[0;36m\u001b[0m\n\u001b[0;31m    print(\"Hello, World!\"\u001b[0m\n\u001b[0m                         ^\u001b[0m\n\u001b[0;31mSyntaxError\u001b[0m\u001b[0;31m:\u001b[0m incomplete input\n"
     ]
    }
   ],
   "source": [
    " print(\"Hello, World!\""
   ]
  },
  {
   "cell_type": "code",
   "execution_count": null,
   "id": "bc2710f5-e58e-4655-a6f7-d1f5af9fb3a2",
   "metadata": {},
   "outputs": [],
   "source": [
    "\n",
    "2. **Exceptions:**\n",
    "   - Exceptions occur during the execution of a program after it has been successfully parsed and compiled. They represent runtime errors that can happen due to various reasons, such as invalid user input, file not found, division by zero, etc.\n",
    "   - Exceptions can be handled using `try`, `except`, `finally`, and `raise` statements. By handling exceptions, a program can gracefully recover from errors and continue its execution.\n",
    "   - Examples of exceptions include `ZeroDivisionError`, `FileNotFoundError`, `TypeError`, etc.\n",
    "\n",
    " \n",
    "\n",
    "\n",
    "In summary, syntax errors occur during the compilation phase and prevent the script from running, while exceptions occur during the execution phase and can be handled to prevent the program from crashing abruptly. Handling exceptions allows programmers to write more robust and fault-tolerant code."
   ]
  },
  {
   "cell_type": "code",
   "execution_count": 2,
   "id": "023da1e5-a611-47c9-bcc4-092b643c92e9",
   "metadata": {},
   "outputs": [
    {
     "name": "stdout",
     "output_type": "stream",
     "text": [
      "Error: Division by zero!\n"
     ]
    }
   ],
   "source": [
    "   try:\n",
    "       result = 10 / 0\n",
    "   except ZeroDivisionError:\n",
    "       print(\"Error: Division by zero!\")\n",
    "   "
   ]
  },
  {
   "cell_type": "markdown",
   "id": "b4e90a93-dd5a-49df-a997-68384b76e60a",
   "metadata": {},
   "source": [
    "Q2.What happen  when an exception not handaled ?explain with example"
   ]
  },
  {
   "cell_type": "code",
   "execution_count": null,
   "id": "4246d068-4925-4fce-80f3-1856832adaf9",
   "metadata": {},
   "outputs": [],
   "source": [
    "When an exception is not handled in Python, it propagates up the call stack until it is caught by an \n",
    "appropriate exception handler. If there is no exception handler for a specific type of exception, the program terminates, \n",
    "and Python prints a traceback to indicate where the unhandled exception occurred. This traceback provides information about the error, \n",
    "helping developers identify and fix the issue.\n",
    "\n",
    "Here's an example to illustrate what happens when an exception is not handled:\n",
    "\n",
    "(10/0)-gives error\n"
   ]
  },
  {
   "cell_type": "code",
   "execution_count": 5,
   "id": "9e5fdf27-d371-4b2d-991a-0e95cffa570f",
   "metadata": {},
   "outputs": [
    {
     "ename": "ZeroDivisionError",
     "evalue": "division by zero",
     "output_type": "error",
     "traceback": [
      "\u001b[0;31m---------------------------------------------------------------------------\u001b[0m",
      "\u001b[0;31mZeroDivisionError\u001b[0m                         Traceback (most recent call last)",
      "Cell \u001b[0;32mIn[5], line 1\u001b[0m\n\u001b[0;32m----> 1\u001b[0m \u001b[38;5;241;43m10\u001b[39;49m\u001b[38;5;241;43m/\u001b[39;49m\u001b[38;5;241;43m0\u001b[39;49m\n",
      "\u001b[0;31mZeroDivisionError\u001b[0m: division by zero"
     ]
    }
   ],
   "source": [
    "10/0"
   ]
  },
  {
   "cell_type": "code",
   "execution_count": 3,
   "id": "c13c57be-3c1e-4163-94b4-5edd12e92e80",
   "metadata": {},
   "outputs": [
    {
     "name": "stdin",
     "output_type": "stream",
     "text": [
      "Enter numerator:  10\n",
      "Enter denominator:  0\n"
     ]
    },
    {
     "name": "stdout",
     "output_type": "stream",
     "text": [
      "Error: Division by zero!\n"
     ]
    }
   ],
   "source": [
    "\n",
    "def divide_numbers(a, b):\n",
    "    result = a / b\n",
    "    return result\n",
    "\n",
    "try:\n",
    "    num1 = int(input(\"Enter numerator: \"))\n",
    "    num2 = int(input(\"Enter denominator: \"))\n",
    "    result = divide_numbers(num1, num2)\n",
    "    print(\"Result of division:\", result)\n",
    "\n",
    "# Exception will be raised if the user enters 0 as the denominator\n",
    "except ValueError:\n",
    "    print(\"Error: Invalid input. Please enter valid integers.\")\n",
    "except ZeroDivisionError:\n",
    "    print(\"Error: Division by zero!\")\n",
    "\n",
    "# No generic exception handler provided\n",
    "# Any other type of exception will propagate up and terminate the program if unhandled\n"
   ]
  },
  {
   "cell_type": "code",
   "execution_count": null,
   "id": "7f13bacc-0f01-45f2-9860-3d6c206e9281",
   "metadata": {},
   "outputs": [],
   "source": [
    "\n",
    "\n",
    "In this example, the program attempts to divide two numbers provided by the user. If the user enters a non-integer value, a `ValueError` occurs. If the user enters 0 as the denominator,\n",
    "a `ZeroDivisionError` occurs. These exceptions are caught and appropriate error messages are displayed.\n",
    "\n",
    "However, if the user enters a string that cannot be converted to an integer (e.g., \"abc\"), a `ValueError` will be raised, but there is no specific `except` block to handle it. \n",
    "In such a case, the unhandled `ValueError` exception will propagate up and terminate the program, displaying a \n",
    "traceback indicating the line of code where the exception occurred.\n",
    "\n",
    "To handle any unexpected exceptions and prevent the program from terminating unexpectedly, a generic `except` block can be added at the end of the `try-except` block to catch all types of exceptions:\n",
    "\n",
    "\n",
    "try:\n",
    "    # code that may raise exceptions\n",
    "except SomeSpecificException:\n",
    "    # handle specific exception\n",
    "except AnotherSpecificException:\n",
    "    # handle another specific exception\n",
    "except Exception as e:\n",
    "    # handle any other exception (generic exception handler)\n",
    "    print(\"An error occurred:\", e)\n",
    "    \n",
    "In this way, even if an unexpected exception occurs, the program will continue running, and an error message will be displayed instead of terminating abruptly."
   ]
  },
  {
   "cell_type": "markdown",
   "id": "9405dca0-ab51-45ba-9618-c249134c68b1",
   "metadata": {},
   "source": [
    "Q3which python statement used to catch and handle  exception ? Explain With Example"
   ]
  },
  {
   "cell_type": "code",
   "execution_count": null,
   "id": "a8ad1341-4b6f-4f13-a0e3-91fd737e7d63",
   "metadata": {},
   "outputs": [],
   "source": [
    "In Python, you can catch and handle exceptions using the `try`, `except`, `else`, and `finally` blocks. Here's how it works:\n",
    "\n",
    "1)`try`: You place the code that might raise an exception inside the `try` block.\n",
    "2)`except`: If an exception occurs in the `try` block, Python jumps to the `except` block. You can specify which \n",
    "exceptions to catch (or catch all exceptions using `except Exception:`).\n",
    "3)else (optional): If no exceptions occur in the `try` block, the code in the `else` block is executed.\n",
    "4)finally(optional): This block is always executed, regardless of whether an exception occurred or not. \n",
    "It is typically used for cleanup operations.\n",
    "\n",
    "Here's an example that demonstrates the usage of `try`, `except`, `else`, and `finally`:\n",
    "\n",
    "\n"
   ]
  },
  {
   "cell_type": "code",
   "execution_count": 7,
   "id": "9b4734dd-df90-4a4e-b16c-97515663e891",
   "metadata": {},
   "outputs": [
    {
     "name": "stdin",
     "output_type": "stream",
     "text": [
      "Enter a number:  0\n"
     ]
    },
    {
     "name": "stdout",
     "output_type": "stream",
     "text": [
      "Error: Division by zero.\n",
      "Execution completed.\n"
     ]
    }
   ],
   "source": [
    "\n",
    "try:\n",
    "    num = int(input(\"Enter a number: \"))\n",
    "    result = 10 / num\n",
    "\n",
    "# Catch specific exceptions\n",
    "except ValueError:\n",
    "    print(\"Invalid input. Please enter a valid number.\")\n",
    "\n",
    "except ZeroDivisionError:\n",
    "    print(\"Error: Division by zero.\")\n",
    "\n",
    "# Catch all other exceptions (generic exception handler)\n",
    "except Exception as e:\n",
    "    print(f\"An error occurred: {e}\")\n",
    "\n",
    "else:\n",
    "    # This block is executed if no exceptions occur in the try block\n",
    "    print(\"Division successful. Result:\", result)\n",
    "\n",
    "finally:\n",
    "    # This block is always executed, even if an exception occurred\n",
    "    print(\"Execution completed.\")\n",
    "\n",
    "\n"
   ]
  },
  {
   "cell_type": "code",
   "execution_count": null,
   "id": "e87e7f54-487a-4f0e-a3c8-3d7fdc9cf20d",
   "metadata": {},
   "outputs": [],
   "source": [
    "\n",
    "In this example:\n",
    "- If the user enters a non-integer value, a `ValueError` will be caught.\n",
    "- If the user enters 0 as the number, a `ZeroDivisionError` will be caught.\n",
    "- If the user enters any other number, the division will be successful, and the `else` block will execute.\n",
    "- Finally, the `finally` block will always execute, indicating that the execution is completed.\n",
    "\n",
    "Using these blocks, you can handle exceptions gracefully and provide appropriate error messages to users while ensuring that your program doesn't crash due to unexpected issues."
   ]
  },
  {
   "cell_type": "markdown",
   "id": "fd2914cf-45fe-449a-9eca-fcbd9ccc1809",
   "metadata": {},
   "source": [
    "Q4. Explain with an example:\n",
    "1)try and else\n",
    " 2)finally\n",
    "3) raise\n",
    "\n"
   ]
  },
  {
   "cell_type": "code",
   "execution_count": null,
   "id": "4f0471ed-8303-467e-9b56-42b9e392047e",
   "metadata": {},
   "outputs": [],
   "source": [
    "Certainly! Let's go through each of the concepts with examples.\n",
    "\n",
    " 1) `try` and `else`:\n",
    "\n",
    "In Python, the `try` block is used to enclose the code that might raise an exception. \n",
    "The `else` block is executed if no exceptions occur in the `try` block.\n",
    "\n",
    "These concepts help in managing exceptions effectively and handling different situations in your Python programs."
   ]
  },
  {
   "cell_type": "code",
   "execution_count": 13,
   "id": "34c9d23c-bf15-4d04-a789-d1bdedeca53a",
   "metadata": {},
   "outputs": [
    {
     "name": "stdin",
     "output_type": "stream",
     "text": [
      "Enter a number:  ktg\n"
     ]
    },
    {
     "name": "stdout",
     "output_type": "stream",
     "text": [
      "Invalid input. Please enter a valid number.\n"
     ]
    }
   ],
   "source": [
    "\n",
    "try:\n",
    "    num = int(input(\"Enter a number: \"))\n",
    "except ValueError:\n",
    "    print(\"Invalid input. Please enter a valid number.\")\n",
    "else:\n",
    "    print(\"You entered:\", num)\n",
    "#In this example, if the user enters a non-integer value, a `ValueError` will be caught and the program will print an error message. If the user enters a valid integer, the `else` block will execute and print the entered number.\n"
   ]
  },
  {
   "cell_type": "code",
   "execution_count": null,
   "id": "ed90494d-be9c-42f3-8bc2-fbb5e1c3db1a",
   "metadata": {},
   "outputs": [],
   "source": [
    "\n",
    "2) `finally`:\n",
    "\n",
    "The `finally` block is used to define cleanup actions that must be executed, regardless of whether \n",
    "an exception occurred or not.\n"
   ]
  },
  {
   "cell_type": "code",
   "execution_count": 12,
   "id": "e90ac7e6-24b1-47e3-8dfb-f4b0d622f043",
   "metadata": {},
   "outputs": [
    {
     "name": "stdout",
     "output_type": "stream",
     "text": [
      "File not found.\n"
     ]
    },
    {
     "ename": "NameError",
     "evalue": "name 'file' is not defined",
     "output_type": "error",
     "traceback": [
      "\u001b[0;31m---------------------------------------------------------------------------\u001b[0m",
      "\u001b[0;31mNameError\u001b[0m                                 Traceback (most recent call last)",
      "Cell \u001b[0;32mIn[12], line 8\u001b[0m\n\u001b[1;32m      6\u001b[0m     \u001b[38;5;28mprint\u001b[39m(\u001b[38;5;124m\"\u001b[39m\u001b[38;5;124mFile not found.\u001b[39m\u001b[38;5;124m\"\u001b[39m)\n\u001b[1;32m      7\u001b[0m \u001b[38;5;28;01mfinally\u001b[39;00m:\n\u001b[0;32m----> 8\u001b[0m     \u001b[43mfile\u001b[49m\u001b[38;5;241m.\u001b[39mclose()\n\u001b[1;32m      9\u001b[0m \u001b[38;5;66;03m#In this example, the `finally` block ensures that the file is closed properly, even if a `FileNotFoundError` occurs or if the file is read successfully.\u001b[39;00m\n",
      "\u001b[0;31mNameError\u001b[0m: name 'file' is not defined"
     ]
    }
   ],
   "source": [
    "\n",
    "try:\n",
    "    file = open(\"example.txt\", \"r\")\n",
    "    content = file.read()\n",
    "    print(content)\n",
    "except FileNotFoundError:\n",
    "    print(\"File not found.\")\n",
    "finally:\n",
    "    file.close()\n",
    "#In this example, the `finally` block ensures that the file is closed properly, even if a `FileNotFoundError` occurs or if the file is read successfully.\n"
   ]
  },
  {
   "cell_type": "code",
   "execution_count": null,
   "id": "29ba1032-2597-48ca-ac3b-86a91d540238",
   "metadata": {},
   "outputs": [],
   "source": [
    "\n",
    " 3) `raise`:\n",
    "\n",
    "The `raise` statement is used to raise a specific exception manually.\n"
   ]
  },
  {
   "cell_type": "code",
   "execution_count": 10,
   "id": "a214bcfa-1679-48fc-93fd-aabb81a165cb",
   "metadata": {},
   "outputs": [
    {
     "name": "stdin",
     "output_type": "stream",
     "text": [
      "Enter your age:  -7\n"
     ]
    },
    {
     "name": "stdout",
     "output_type": "stream",
     "text": [
      "Invalid input: Age cannot be negative.\n"
     ]
    }
   ],
   "source": [
    "\n",
    "try:\n",
    "    age = int(input(\"Enter your age: \"))\n",
    "    if age < 0:\n",
    "        raise ValueError(\"Age cannot be negative.\")\n",
    "except ValueError as e:\n",
    "    print(\"Invalid input:\", e)\n",
    "#In this example, if the user enters a negative age, a `ValueError` will be raised with the specified message, and it will be caught and printed in the `except` block.\n",
    "\n"
   ]
  },
  {
   "cell_type": "markdown",
   "id": "b137e21a-b80f-4134-8682-45ec406ee51a",
   "metadata": {},
   "source": [
    "Q4.What is Custom Exception In python? why do we need Custom Exception ?Explain With Example"
   ]
  },
  {
   "cell_type": "code",
   "execution_count": null,
   "id": "b80ade83-7282-4ca0-b01a-2fe36bfc0e47",
   "metadata": {},
   "outputs": [],
   "source": [
    "In Python, custom exceptions (also known as user-defined exceptions) allow \n",
    "you to define your own exception classes. You might need custom exceptions when you want to raise specific\n",
    "errors in your code based on certain conditions\n",
    "that are not covered by the built-in exceptions. Custom exceptions provide a way to create\n",
    "more meaningful and descriptive error messages tailored to your application's specific needs.\n",
    "\n",
    "Here's how you can create a custom exception in Python:\n",
    "\n"
   ]
  },
  {
   "cell_type": "code",
   "execution_count": 14,
   "id": "d12c6f05-3191-4f86-88c8-4edb9a303632",
   "metadata": {},
   "outputs": [
    {
     "name": "stdin",
     "output_type": "stream",
     "text": [
      "Enter your age:  -7\n"
     ]
    },
    {
     "name": "stdout",
     "output_type": "stream",
     "text": [
      "Error: Age cannot be negative.\n"
     ]
    }
   ],
   "source": [
    "\n",
    "class CustomError(Exception):\n",
    "    def __init__(self, message):\n",
    "        self.message = message\n",
    "        super().__init__(self.message)\n",
    "\n",
    "# Example of using custom exception\n",
    "def validate_age(age):\n",
    "    if age < 0:\n",
    "        raise CustomError(\"Age cannot be negative.\")\n",
    "\n",
    "try:\n",
    "    age = int(input(\"Enter your age: \"))\n",
    "    validate_age(age)\n",
    "except CustomError as e:\n",
    "    print(\"Error:\", e)\n",
    "\n"
   ]
  },
  {
   "cell_type": "code",
   "execution_count": null,
   "id": "749a352c-c878-4d46-9f4b-a36246cb455f",
   "metadata": {},
   "outputs": [],
   "source": [
    "\n",
    "In this example, `CustomError` is a custom exception class derived from the built-in `Exception` class.\n",
    "The `validate_age` function checks if the provided age is negative. If it is negative, a `CustomError` \n",
    "exception is raised with a specific error message. When catching this custom exception, you can handle it in a way that makes sense for your application.\n",
    "\n",
    "Custom exceptions help in making your code more readable and maintainable. They allow you to handle specific error cases in a more structured manner,\n",
    "providing clear information about what went wrong in your program."
   ]
  },
  {
   "cell_type": "markdown",
   "id": "f0155ff5-45ed-4f99-859c-c745461f08c2",
   "metadata": {},
   "source": [
    "Q6.Create a Custom Exception class Use this class to handle Exception"
   ]
  },
  {
   "cell_type": "code",
   "execution_count": 15,
   "id": "99f6ad6e-2658-47c9-a5c8-ef084985ee35",
   "metadata": {},
   "outputs": [
    {
     "name": "stdin",
     "output_type": "stream",
     "text": [
      "Enter some data:  \n"
     ]
    },
    {
     "name": "stdout",
     "output_type": "stream",
     "text": [
      "Error: Empty data received.\n"
     ]
    }
   ],
   "source": [
    "# Custom Exception class\n",
    "class CustomError(Exception):\n",
    "    def __init__(self, message):\n",
    "        self.message = message\n",
    "        super().__init__(self.message)\n",
    "\n",
    "# Function that may raise the custom exception\n",
    "def process_data(data):\n",
    "    if not data:\n",
    "        raise CustomError(\"Empty data received.\")\n",
    "    # Process the data here...\n",
    "\n",
    "# Example usage of the custom exception\n",
    "try:\n",
    "    data = input(\"Enter some data: \")\n",
    "    process_data(data)\n",
    "    print(\"Data processed successfully.\")\n",
    "except CustomError as e:\n",
    "    print(\"Error:\", e)\n"
   ]
  },
  {
   "cell_type": "code",
   "execution_count": null,
   "id": "4e2fd394-d790-4109-b412-de9dd0ebb3d5",
   "metadata": {},
   "outputs": [],
   "source": []
  },
  {
   "cell_type": "code",
   "execution_count": null,
   "id": "d448428e-1246-41a1-ad1d-317a328605eb",
   "metadata": {},
   "outputs": [],
   "source": []
  }
 ],
 "metadata": {
  "kernelspec": {
   "display_name": "Python 3 (ipykernel)",
   "language": "python",
   "name": "python3"
  },
  "language_info": {
   "codemirror_mode": {
    "name": "ipython",
    "version": 3
   },
   "file_extension": ".py",
   "mimetype": "text/x-python",
   "name": "python",
   "nbconvert_exporter": "python",
   "pygments_lexer": "ipython3",
   "version": "3.10.8"
  }
 },
 "nbformat": 4,
 "nbformat_minor": 5
}
