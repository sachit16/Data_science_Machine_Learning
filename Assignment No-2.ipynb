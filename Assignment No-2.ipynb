{
 "cells": [
  {
   "cell_type": "code",
   "execution_count": null,
   "id": "401a768f-3da7-40c6-b6c7-c153321283c9",
   "metadata": {},
   "outputs": [],
   "source": [
    "Q1. How do you comment code in Python? What are the different types of comments?"
   ]
  },
  {
   "cell_type": "code",
   "execution_count": null,
   "id": "0e580835-8713-43a6-a6db-37eea174c7a7",
   "metadata": {},
   "outputs": [],
   "source": [
    "In Python, you can create comments using the `#` symbol. Anything after the `#` symbol on a line is considered a comment and is ignored by the Python interpreter. There are no multiline comments in Python using `/* ... */` syntax like in some other programming languages.\n",
    "There is only one type of comment in Python, and it starts with the `#` symbol. For example:\n",
    "# This is a single-line comment\n",
    "print(\"Hello, World!\")  # This is also a comment after code\n",
    "In addition to single-line comments, you can use multiline strings (enclosed in triple quotes) as a way to create multiline comments. While not technically comments, these \n",
    "multiline strings are often used as comments because they can span multiple lines and are not assigned to any variable.\n",
    "\n",
    "\"\"\"\n",
    "This is a multiline comment.\n",
    "It can span multiple lines.\n",
    "This is not assigned to any variable.\n",
    "\"\"\"\n",
    "print(\"Hello, World!\")\n"
   ]
  },
  {
   "cell_type": "code",
   "execution_count": null,
   "id": "772e01b3-1090-4a5f-9ceb-e9d7c05d3a91",
   "metadata": {},
   "outputs": [],
   "source": [
    "In this example, `name`, `age`, `height`, and `is_adult` are all variables holding different types of values. When you run this code, it will print the values stored in these variables."
   ]
  },
  {
   "cell_type": "code",
   "execution_count": null,
   "id": "beb641c4-1954-4ad7-92e7-b5eeb422b48b",
   "metadata": {},
   "outputs": [],
   "source": [
    "In Python, variables are used to store data values. Unlike some other programming languages, you don't need to explicitly declare the type of a variable in Python. \n",
    "The interpreter automatically determines the type based on the value assigned to it. Here's how you declare and assign values to variables in Python:\n",
    "\n",
    "### Variable Declaration and Assignment:\n",
    "variable_name = value\n",
    "### Examples:\n",
    "# Integer variable\n",
    "age = 25\n",
    "# Float variable\n",
    "pi = 3.14\n",
    "# String variable\n",
    "name = \"Alice\"\n",
    "# Boolean variable\n",
    "is_adult = True\n",
    "# You can also assign multiple variables in a single line\n",
    "x, y, z = 1, 2, 3\n",
    "# Assign the same value to multiple variables\n",
    "a = b = c = 0\n",
    "# Variables can be reassigned with a different type\n",
    "variable_name = \"Hello\"  # variable_name is now a string\n",
    "# Python supports dynamic typing, so you can change the type of a variable later\n",
    "variable_name = 42  # Now variable_name is an integer\n",
    "Python variable names must start with a letter (a-z, A-Z) or an underscore (_). They cannot start with a number. Variable names can contain letters, numbers, and underscores. Python variable names are case-sensitive, meaning `age`, `Age`, and `AGE` would be three different variables.\n",
    "Here's an example that demonstrates declaring and assigning variables in Python:\n",
    "name = \"Sachit\"\n",
    "age = 20\n",
    "height = 5.9\n",
    "is_adult = True\n",
    "complexno=2+9j\n",
    "floatno=6.777\n",
    "\n",
    "print(name)\n",
    "print(age)\n",
    "print(height)\n",
    "print(is_adult)\n",
    "print(complexno)\n",
    "print(floatno)\n"
   ]
  },
  {
   "cell_type": "code",
   "execution_count": 1,
   "id": "09054727-b885-4853-b423-0c224d31c681",
   "metadata": {},
   "outputs": [
    {
     "name": "stdout",
     "output_type": "stream",
     "text": [
      "Sachit\n",
      "20\n",
      "5.9\n",
      "True\n",
      "(2+9j)\n",
      "6.777\n"
     ]
    }
   ],
   "source": [
    "name = \"Sachit\"\n",
    "age = 20\n",
    "height = 5.9\n",
    "is_adult = True\n",
    "complexno=2+9j\n",
    "floatno=6.777\n",
    "\n",
    "print(name)\n",
    "print(age)\n",
    "print(height)\n",
    "print(is_adult)\n",
    "print(complexno)\n",
    "print(floatno)"
   ]
  },
  {
   "cell_type": "code",
   "execution_count": null,
   "id": "8712fc82-7feb-43aa-86ab-2d793b75b337",
   "metadata": {},
   "outputs": [],
   "source": [
    "Q3. How do you convert one data type to another in Python?"
   ]
  },
  {
   "cell_type": "code",
   "execution_count": null,
   "id": "42c1a38c-e223-4a5f-b489-2bc6283094c9",
   "metadata": {},
   "outputs": [],
   "source": [
    "In Python, you can convert one data type to another through a process called type casting or type conversion. Python provides built-in functions for this purpose. Here are some common type conversion functions:\n",
    "\n",
    "1.int(x): Converts `x` to an integer. For floating-point numbers, it truncates towards zero.\n",
    "   float_num = 3.14\n",
    "   int_num = int(float_num)\n",
    "   print(int_num)  # Output: 3\n",
    "2. float(x): Converts `x` to a floating-point number.\n",
    "   int_num = 5\n",
    "   float_num = float(int_num)\n",
    "   print(float_num)  # Output: 5.0\n",
    "3. str(x): Converts `x` to a string.\n",
    "   number = 42\n",
    "   str_num = str(number)\n",
    "   print(str_num)  # Output: '42'\n",
    "4. list(x): Converts `x` to a list. If `x` is a sequence (like a tuple or a string), it will convert each element of the sequence into a list item.\n",
    "   tuple_values = (1, 2, 3)\n",
    "   list_values = list(tuple_values)\n",
    "   print(list_values)  # Output: [1, 2, 3]\n",
    "5. tuple(x): Converts `x` to a tuple. If `x` is a sequence, it will convert each element of the sequence into a tuple it\n",
    "   list_values = [1, 2, 3]\n",
    "   tuple_values = tuple(list_values)\n",
    "   print(tuple_values)  # Output: (1, 2, 3)\n",
    "6. set(x): Converts `x` to a set.\n",
    "   list_values = [1, 2, 2, 3, 3, 3]  # Lists can have duplicate elements\n",
    "   set_values = set(list_values)  # Sets don't allow duplicates\n",
    "   print(set_values)  # Output: {1, 2, 3}\n",
    "7. bool(x): Converts `x` to a Boolean value. Generally, any non-zero or non-empty value is considered `True`, and zero or empty values are considered `False`.\n",
    "   num = 42\n",
    "   bool_value = bool(num)\n",
    "   print(bool_value)  # Output: True\n",
    "   empty_list = []\n",
    "   bool_value = bool(empty_list)\n",
    "   print(bool_value)  # Output: False\n",
    "\n"
   ]
  },
  {
   "cell_type": "code",
   "execution_count": 2,
   "id": "a28dce0c-dc57-4e2b-b8b0-761e6ef6c3a0",
   "metadata": {},
   "outputs": [
    {
     "name": "stdout",
     "output_type": "stream",
     "text": [
      "3\n",
      "5.0\n",
      "42\n",
      "[1, 2, 3]\n",
      "(1, 2, 3)\n",
      "{1, 2, 3}\n",
      "True\n",
      "False\n"
     ]
    }
   ],
   "source": [
    "float_num = 3.14\n",
    "int_num = int(float_num)\n",
    "print(int_num)\n",
    "\n",
    "int_num = 5\n",
    "float_num = float(int_num)\n",
    "print(float_num)\n",
    "\n",
    "number = 42\n",
    "str_num = str(number)\n",
    "print(str_num)\n",
    "    \n",
    "tuple_values = (1, 2, 3)\n",
    "list_values = list(tuple_values)\n",
    "print(list_values)\n",
    "\n",
    "list_values = [1, 2, 3]\n",
    "tuple_values = tuple(list_values)\n",
    "print(tuple_values)\n",
    "\n",
    "list_values = [1, 2, 2, 3, 3, 3]  # Lists can have duplicate elements\n",
    "set_values = set(list_values)  # Sets don't allow duplicates\n",
    "print(set_values)\n",
    "\n",
    "num = 42\n",
    "bool_value = bool(num)\n",
    "print(bool_value)  # Output: True\n",
    "empty_list = []\n",
    "bool_value = bool(empty_list)\n",
    "print(bool_value) "
   ]
  },
  {
   "cell_type": "code",
   "execution_count": null,
   "id": "9d903f5e-b5a0-42b1-81f1-b3e879d48ca8",
   "metadata": {},
   "outputs": [],
   "source": []
  },
  {
   "cell_type": "code",
   "execution_count": null,
   "id": "32945010-f7e8-4ca5-8efb-2270f1b1536f",
   "metadata": {},
   "outputs": [],
   "source": [
    "To write and execute a Python script from the command line, follow these steps:\n",
    "\n",
    "1. Open a Text Editor: Open a text editor like Notepad (on Windows), TextEdit (on macOS), or any code editor like VSCode, Sublime Text, or Atom.\n",
    "\n",
    "2. Write Your Python Code: Write your Python code in the text editor. For example, you can create a simple script that prints \"Hello, World!\" to the console:\n",
    "\n",
    "   \n",
    "   print(\"Hello, World!\")\n",
    "\n",
    "\n",
    "3. Save the File: Save the file with a `.py` extension. For example, you can save it as `hello.py`.\n",
    "\n",
    "4. Open the Command Line Interface (CLI): Open the command prompt (on Windows) or terminal (on macOS and Linux).\n",
    "\n",
    "5. Navigate to the Directory: Use the `cd` command to navigate to the directory where your Python script is saved. For example:\n",
    "\n",
    "   \n",
    "   cd path/to/your/directory\n",
    "\n",
    "6. Run the Python Script: Type `python` followed by the name of your Python script and press Enter. For example:\n",
    "\n",
    "   \n",
    "   python hello.py\n",
    "\n",
    "   If you are using Python 3, you might need to use `python3` instead of `python`:\n",
    "\n",
    "   \n",
    "   python3 hello.py\n",
    "\n",
    "7. View the Output: The script will be executed, and you will see the output in the terminal:\n",
    "\n",
    "\n",
    "   Hello, World!\n",
    "   \n",
    "\n"
   ]
  },
  {
   "cell_type": "code",
   "execution_count": null,
   "id": "45f8e815-88b4-4137-b23a-42f7df314790",
   "metadata": {},
   "outputs": [],
   "source": [
    "Q5. Given a list my_list = [1, 2, 3, 4, 5], write the code to slice the list and obtain the sub-list [2, 3]."
   ]
  },
  {
   "cell_type": "code",
   "execution_count": 3,
   "id": "c4e56ca0-ce9f-44d7-826c-ff8f5118bb8b",
   "metadata": {},
   "outputs": [],
   "source": [
    "my_list = [1, 2, 3, 4, 5]"
   ]
  },
  {
   "cell_type": "code",
   "execution_count": 5,
   "id": "911cb68a-135e-43db-ad98-ccff622db6c9",
   "metadata": {},
   "outputs": [
    {
     "data": {
      "text/plain": [
       "[2, 3]"
      ]
     },
     "execution_count": 5,
     "metadata": {},
     "output_type": "execute_result"
    }
   ],
   "source": [
    "my_list[1:3]"
   ]
  },
  {
   "cell_type": "code",
   "execution_count": null,
   "id": "41365646-4504-4128-8c25-04592da5a094",
   "metadata": {},
   "outputs": [],
   "source": [
    "Q6. What is a complex number in mathematics, and how is it represented in Python?"
   ]
  },
  {
   "cell_type": "code",
   "execution_count": null,
   "id": "36149b1a-5af3-4f25-8b7b-e0e5c2d57e39",
   "metadata": {},
   "outputs": [],
   "source": [
    "In mathematics, a complex number is a number that can be expressed in the form \\(a + bi\\), where \\(a\\) and \\(b\\) are real numbers, and \\(i\\) is the imaginary unit (\\(i^2 = -1\\)). Here, \\(a\\) is the real part, \\(b\\) is the imaginary part, and \\(i\\) represents the imaginary unit.\n",
    "\n",
    "In Python, complex numbers are represented using the `complex` data type. You can create a complex number by specifying the real and imaginary parts as arguments to the `complex()` function or by using the `j` suffix for the imaginary part. Here are a few examples:\n",
    "\n",
    "# Using complex() function\n",
    "complex_num1 = complex(2, 3)  # 2 + 3i\n",
    "\n",
    "# Using j suffix\n",
    "complex_num2 = 1 + 4j  # 1 + 4i\n",
    "\n",
    "# Operations with complex numbers\n",
    "sum_complex = complex_num1 + complex_num2\n",
    "difference_complex = complex_num1 - complex_num2\n",
    "product_complex = complex_num1 * complex_num2\n",
    "quotient_complex = complex_num1 / complex_num2\n",
    "\n",
    "print(\"Sum:\", sum_complex)  # Output: (3+7j)\n",
    "print(\"Difference:\", difference_complex)  # Output: (1-1j)\n",
    "print(\"Product:\", product_complex)  # Output: (-10+11j)\n",
    "print(\"Quotient:\", quotient_complex)  # Output: (0.7-0.1j)\n",
    "\n",
    "\n",
    "In the above code, `j` represents the imaginary unit in Python. Complex numbers in Python can be used for various mathematical operations, just like real numbers."
   ]
  },
  {
   "cell_type": "code",
   "execution_count": 6,
   "id": "b6e53da7-b008-4446-acbb-7d3644892939",
   "metadata": {},
   "outputs": [
    {
     "name": "stdout",
     "output_type": "stream",
     "text": [
      "Sum: (3+7j)\n",
      "Difference: (1-1j)\n",
      "Product: (-10+11j)\n",
      "Quotient: (0.8235294117647058-0.29411764705882354j)\n"
     ]
    }
   ],
   "source": [
    "\n",
    "# Using complex() function\n",
    "complex_num1 = complex(2, 3)  # 2 + 3i\n",
    "\n",
    "# Using j suffix\n",
    "complex_num2 = 1 + 4j  # 1 + 4i\n",
    "\n",
    "# Operations with complex numbers\n",
    "sum_complex = complex_num1 + complex_num2\n",
    "difference_complex = complex_num1 - complex_num2\n",
    "product_complex = complex_num1 * complex_num2\n",
    "quotient_complex = complex_num1 / complex_num2\n",
    "\n",
    "print(\"Sum:\", sum_complex)  # Output: (3+7j)\n",
    "print(\"Difference:\", difference_complex)  # Output: (1-1j)\n",
    "print(\"Product:\", product_complex)  # Output: (-10+11j)\n",
    "print(\"Quotient:\", quotient_complex)  # Output: (0.7-0.1j)\n"
   ]
  },
  {
   "cell_type": "code",
   "execution_count": null,
   "id": "5fd06612-39fc-4530-9a55-1cbce7b6df71",
   "metadata": {},
   "outputs": [],
   "source": [
    "Q7. What is the correct way to declare a variable named age and assign the value 25 to it?"
   ]
  },
  {
   "cell_type": "code",
   "execution_count": null,
   "id": "c959295c-7c50-472d-b53f-46ee01e79585",
   "metadata": {},
   "outputs": [],
   "source": [
    "In Python, the correct way to declare a variable named `age` and assign the value `25` to it is as follows:\n",
    "\n",
    "\n",
    "age = 25\n",
    "\n",
    "In this line of code, the variable `age` is declared and assigned the integer value `25`. Python is a dynamically typed language, so you don't need to specify the data type of the variable explicitly. Python will automatically infer the data type based on the value assigned to the variable."
   ]
  },
  {
   "cell_type": "code",
   "execution_count": 12,
   "id": "cd5a5132-92c5-4187-93ec-48e617faaebc",
   "metadata": {},
   "outputs": [
    {
     "name": "stdout",
     "output_type": "stream",
     "text": [
      "<class 'int'>\n"
     ]
    }
   ],
   "source": [
    "age = 25\n",
    "print(type(age))"
   ]
  },
  {
   "cell_type": "code",
   "execution_count": null,
   "id": "ace0ce46-74c5-4444-bc2e-b1a80675348e",
   "metadata": {},
   "outputs": [],
   "source": [
    "Q8. Declare a variable named price and assign the value 9.99 to it. What data type does this variable\n",
    "belong to?"
   ]
  },
  {
   "cell_type": "code",
   "execution_count": null,
   "id": "f6ef412b-9d8e-4734-acf8-946461bf1291",
   "metadata": {},
   "outputs": [],
   "source": [
    "In Python, declaring a variable named `price` and assigning the value `9.99` to it would look like this:\n",
    "\n",
    "price = 9.99\n",
    "\n",
    "\n",
    "The data type of the variable `price` in this case is a floating-point number. Floating-point numbers in Python are used to represent real numbers and can include a decimal point."
   ]
  },
  {
   "cell_type": "code",
   "execution_count": 11,
   "id": "386e1ca5-9d7a-422d-a780-52214c75265c",
   "metadata": {},
   "outputs": [
    {
     "name": "stdout",
     "output_type": "stream",
     "text": [
      "<class 'float'>\n"
     ]
    }
   ],
   "source": [
    "price = 9.99\n",
    "print(type(price))"
   ]
  },
  {
   "cell_type": "code",
   "execution_count": null,
   "id": "4cd02118-2322-4e40-9757-cb395a0c3ab0",
   "metadata": {},
   "outputs": [],
   "source": [
    "Q9. Create a variable named name and assign your full name to it as a string. How would you print the\n",
    "value of this variable?"
   ]
  },
  {
   "cell_type": "code",
   "execution_count": null,
   "id": "bb452bba-e177-469a-8e1a-f46799a7999d",
   "metadata": {},
   "outputs": [],
   "source": [
    "To create a variable named `name` and assign your full name to it as a string, you can do the following:\n",
    "\n",
    "\n",
    "name = \"Sachit Bhor\"\n",
    "\n",
    "\n",
    "To print the value of the `name` variable, you can use the `print()` function:\n",
    "\n",
    "\n",
    "print(name)\n",
    "\n",
    "\n"
   ]
  },
  {
   "cell_type": "code",
   "execution_count": 9,
   "id": "12ebd360-1abc-4e96-8d34-d62883ee93d8",
   "metadata": {},
   "outputs": [],
   "source": [
    "name = \"Sachit Bhor\""
   ]
  },
  {
   "cell_type": "code",
   "execution_count": 10,
   "id": "444a108d-fa4a-4615-807e-fed003442913",
   "metadata": {},
   "outputs": [
    {
     "name": "stdout",
     "output_type": "stream",
     "text": [
      "Sachit Bhor\n"
     ]
    }
   ],
   "source": [
    "print(name)"
   ]
  },
  {
   "cell_type": "code",
   "execution_count": null,
   "id": "f71dfd34-40ec-49f8-8f96-ccceb6f8cc0a",
   "metadata": {},
   "outputs": [],
   "source": [
    "Q10. Given the string \"Hello, World!\", extract the substring \"World\"."
   ]
  },
  {
   "cell_type": "code",
   "execution_count": 13,
   "id": "4a1a4e74-9f0c-413f-950a-f773e6c5bc14",
   "metadata": {},
   "outputs": [
    {
     "name": "stdout",
     "output_type": "stream",
     "text": [
      "World\n"
     ]
    }
   ],
   "source": [
    "# Given string\n",
    "original_string = \"Hello, World!\"\n",
    "\n",
    "# Extracting the substring \"World\"\n",
    "substring = original_string[7:12]\n",
    "\n",
    "# Printing the extracted substring\n",
    "print(substring)\n"
   ]
  },
  {
   "cell_type": "code",
   "execution_count": null,
   "id": "15773cbb-e088-4965-90a5-fed09adc0647",
   "metadata": {},
   "outputs": [],
   "source": [
    "Q11. Create a variable named \"is_student\" and assign it a boolean value indicating whether you are\n",
    "currently a student or not."
   ]
  },
  {
   "cell_type": "code",
   "execution_count": null,
   "id": "73a82074-bf8d-4369-bc0a-28081c225ef9",
   "metadata": {},
   "outputs": [],
   "source": [
    "# Assigning a boolean value to the variable is_student\n",
    "is_student = True  # If you are a student\n",
    "# or\n",
    "is_student = False  # If you are not a student\n",
    "\n",
    "# Printing the value of is_student\n",
    "print(is_student)\n"
   ]
  }
 ],
 "metadata": {
  "kernelspec": {
   "display_name": "Python 3 (ipykernel)",
   "language": "python",
   "name": "python3"
  },
  "language_info": {
   "codemirror_mode": {
    "name": "ipython",
    "version": 3
   },
   "file_extension": ".py",
   "mimetype": "text/x-python",
   "name": "python",
   "nbconvert_exporter": "python",
   "pygments_lexer": "ipython3",
   "version": "3.10.8"
  }
 },
 "nbformat": 4,
 "nbformat_minor": 5
}
