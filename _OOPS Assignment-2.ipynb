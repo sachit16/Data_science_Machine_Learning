{
 "cells": [
  {
   "cell_type": "markdown",
   "id": "e0c1140b-f8b9-4e6a-bec8-758886780476",
   "metadata": {},
   "source": [
    "Q1. What is Abstraction in OOps? Explain with an example."
   ]
  },
  {
   "cell_type": "code",
   "execution_count": null,
   "id": "f99a6b60-1d9f-4cd7-b866-1e91bcf63fa6",
   "metadata": {},
   "outputs": [],
   "source": [
    "\n",
    "Abstraction in object-oriented programming (OOP) refers to the concept of\n",
    "hiding the complex implementation details and showing only the necessary features\n",
    "of an object. It allows you to focus on the essential qualities of an object while \n",
    "ignoring its non-essential details. Abstraction provides a clear separation between what\n",
    "an object does and how it achieves its functionality.\n",
    "\n",
    "In Python, abstraction is achieved through abstract classes and interfaces. Abstract \n",
    "classes are classes that cannot be instantiated and may contain abstract methods\n",
    "(methods without implementation). Subclasses of abstract classes must provide concrete \n",
    "implementations for all abstract methods. Interfaces, although not native to Python, can\n",
    "be emulated using abstract classes."
   ]
  },
  {
   "cell_type": "code",
   "execution_count": 1,
   "id": "24964b06-8ab3-41c9-a4cd-d62ea091109d",
   "metadata": {},
   "outputs": [],
   "source": [
    "from abc import ABC, abstractmethod\n",
    "\n",
    "# Abstract class definition\n",
    "class Shape(ABC):\n",
    "    @abstractmethod\n",
    "    def area(self):\n",
    "        pass\n",
    "\n",
    "# Concrete class implementing the abstract class\n",
    "class Circle(Shape):\n",
    "    def __init__(self, radius):\n",
    "        self.radius = radius\n",
    "    \n",
    "    # Implementation of the abstract method\n",
    "    def area(self):\n",
    "        return 3.14 * self.radius * self.radius\n",
    "\n",
    "class Square(Shape):\n",
    "    def __init__(self, side):\n",
    "        self.side = side\n",
    "    \n",
    "    # Implementation of the abstract method\n",
    "    def area(self):\n",
    "        return self.side * self.side\n"
   ]
  },
  {
   "cell_type": "code",
   "execution_count": 2,
   "id": "10a11523-e1df-4703-be4a-e15263ba827f",
   "metadata": {},
   "outputs": [
    {
     "name": "stdout",
     "output_type": "stream",
     "text": [
      "Area of Circle: 78.5\n",
      "Area of Square: 16\n"
     ]
    }
   ],
   "source": [
    "\n",
    "\n",
    "circle = Circle(5)\n",
    "square = Square(4)\n",
    "\n",
    "\n",
    "print(\"Area of Circle:\", circle.area())  \n",
    "print(\"Area of Square:\", square.area()) \n"
   ]
  },
  {
   "cell_type": "markdown",
   "id": "f58d632d-d454-448b-89f6-b4c29db718ff",
   "metadata": {},
   "source": [
    "Q2. Differentiate between Abstraction and Encapsulation. Explain with an example."
   ]
  },
  {
   "cell_type": "code",
   "execution_count": null,
   "id": "075352e3-1f91-4d69-983f-fd330f1cea14",
   "metadata": {},
   "outputs": [],
   "source": [
    "Abstraction:\n",
    "Abstraction refers to the concept of hiding complex implementation \n",
    "details and showing only the necessary features of an object. It allows\n",
    "you to focus on what an object does rather than how it achieves its functionality. \n",
    "Abstraction is achieved through abstract classes and interfaces."
   ]
  },
  {
   "cell_type": "code",
   "execution_count": 3,
   "id": "4787728e-f40e-4b40-a23a-f98a4f035ce1",
   "metadata": {},
   "outputs": [],
   "source": [
    "from abc import ABC, abstractmethod\n",
    "\n",
    "class Shape(ABC):\n",
    "    @abstractmethod\n",
    "    def area(self):\n",
    "        pass\n",
    "\n",
    "class Circle(Shape):\n",
    "    def __init__(self, radius):\n",
    "        self.radius = radius\n",
    "    \n",
    "    def area(self):\n",
    "        return 3.14 * self.radius * self.radius\n",
    "\n",
    "class Square(Shape):\n",
    "    def __init__(self, side):\n",
    "        self.side = side\n",
    "    \n",
    "    def area(self):\n",
    "        return self.side * self.side\n"
   ]
  },
  {
   "cell_type": "code",
   "execution_count": 4,
   "id": "263db855-ec0a-4b96-b1e6-ce5c92d596a3",
   "metadata": {},
   "outputs": [
    {
     "name": "stdout",
     "output_type": "stream",
     "text": [
      "Area of Circle: 78.5\n",
      "Area of Square: 16\n"
     ]
    }
   ],
   "source": [
    "\n",
    "circle = Circle(5)\n",
    "square = Square(4)\n",
    "\n",
    "print(\"Area of Circle:\", circle.area()) \n",
    "print(\"Area of Square:\", square.area()) \n"
   ]
  },
  {
   "cell_type": "code",
   "execution_count": null,
   "id": "0e045c3d-8291-4abb-971e-9c143a88e983",
   "metadata": {},
   "outputs": [],
   "source": [
    "Encapsulation:\n",
    "Encapsulation is the concept of bundling the data (attributes) and the methods (functions) \n",
    "that operate on the data into a single unit known as a class. It restricts direct access to \n",
    "some of an object's components and prevents the accidental modification of data. Encapsulation \n",
    "helps in data hiding and prevents unauthorized access to internal data."
   ]
  },
  {
   "cell_type": "code",
   "execution_count": 5,
   "id": "56d5dcf5-07d9-4ea8-beee-6433c6e94466",
   "metadata": {},
   "outputs": [
    {
     "name": "stdout",
     "output_type": "stream",
     "text": [
      "Account Balance: 1300\n"
     ]
    }
   ],
   "source": [
    "class BankAccount:\n",
    "    def __init__(self, balance):\n",
    "        self._balance = balance  # protected attribute\n",
    "    \n",
    "    def deposit(self, amount):\n",
    "        if amount > 0:\n",
    "            self._balance += amount\n",
    "    \n",
    "    def withdraw(self, amount):\n",
    "        if 0 < amount <= self._balance:\n",
    "            self._balance -= amount\n",
    "    \n",
    "    def get_balance(self):\n",
    "        return self._balance\n",
    "\n",
    "account = BankAccount(1000)\n",
    "account.deposit(500)\n",
    "account.withdraw(200)\n",
    "\n",
    "print(\"Account Balance:\", account.get_balance())  \n"
   ]
  },
  {
   "cell_type": "markdown",
   "id": "9fc12452-1261-463b-a4ab-dcd7e812a74c",
   "metadata": {},
   "source": [
    "Q3. What is abc module in python? Why is it used?"
   ]
  },
  {
   "cell_type": "code",
   "execution_count": null,
   "id": "3b90ea5f-196f-4f09-9cdc-2ca5862fe716",
   "metadata": {},
   "outputs": [],
   "source": [
    "The abc module in Python stands for \"Abstract Base Classes.\" It provides a way to create abstract base classes in Python, which are classes that cannot be \n",
    "instantiated directly. Abstract base classes are meant to be subclassed by concrete (non-abstract) classes, and they can define abstract methods that\n",
    "must be implemented by their subclasses.\n",
    "\n",
    "The abc module is used for the following purposes:\n",
    "\n",
    "Creating Abstract Classes: Abstract classes cannot be instantiated and are meant \n",
    "to be subclassed. They allow you to define abstract methods that must be implemented by subclasses.\n",
    "\n",
    "Enforcing Interface Contracts: Abstract classes in Python serve as interfaces that define a set of \n",
    "methods that must be implemented by concrete classes. This helps in defining a common interface that multiple classes can adhere to,\n",
    "ensuring a consistent behavior across different implementations.\n",
    "\n",
    "Preventing Instantiation: Abstract classes prevent the instantiation of objects of the abstract \n",
    "class itself. You can only create instances of concrete subclasses that implement the abstract methods."
   ]
  },
  {
   "cell_type": "code",
   "execution_count": 8,
   "id": "88836d51-448b-46e6-ab4c-b2ee6b0f4fb0",
   "metadata": {},
   "outputs": [],
   "source": [
    "from abc import ABC, abstractmethod\n",
    "\n",
    "class Shape(ABC):\n",
    "    @abstractmethod\n",
    "    def area(self):\n",
    "        pass\n",
    "\n",
    "class Circle(Shape):\n",
    "    def __init__(self, radius):\n",
    "        self.radius = radius\n",
    "    \n",
    "    def area(self):\n",
    "        return 3.14 * self.radius * self.radius\n",
    "\n",
    "class Square(Shape):\n",
    "    def __init__(self, side):\n",
    "        self.side = side\n",
    "    \n",
    "    def area(self):\n",
    "        return self.side * self.side\n"
   ]
  },
  {
   "cell_type": "code",
   "execution_count": 9,
   "id": "cc8d2181-b5a6-4271-a0db-1edaf3b28dfa",
   "metadata": {},
   "outputs": [
    {
     "name": "stdout",
     "output_type": "stream",
     "text": [
      "Area of Circle: 78.5\n",
      "Area of Square: 16\n"
     ]
    }
   ],
   "source": [
    "\n",
    "circle = Circle(5)\n",
    "square = Square(4)\n",
    "\n",
    "print(\"Area of Circle:\", circle.area()) \n",
    "print(\"Area of Square:\", square.area()) \n"
   ]
  },
  {
   "cell_type": "markdown",
   "id": "bc9fb0ef-3f1d-4b94-8828-5823e78f4ed0",
   "metadata": {},
   "source": [
    "Q4. How can we achieve data abstraction?"
   ]
  },
  {
   "cell_type": "code",
   "execution_count": null,
   "id": "4c497be0-7ca0-4a91-a9ed-ef0f74051b55",
   "metadata": {},
   "outputs": [],
   "source": [
    "1. Abstract Classes:\n",
    "Python provides the abc module to create abstract base classes.\n",
    "Abstract classes are classes that cannot be instantiated and are\n",
    "meant to be subclassed. Abstract classes can define abstract methods \n",
    "(methods without implementation) that must be implemented by their subclasses.\n",
    "By defining abstract methods, you create a contract that concrete subclasses must\n",
    "adhere to."
   ]
  },
  {
   "cell_type": "code",
   "execution_count": 10,
   "id": "8eb433da-469c-4ae4-a24c-3d26554b8b8b",
   "metadata": {},
   "outputs": [
    {
     "name": "stdout",
     "output_type": "stream",
     "text": [
      "Area of Circle: 78.5\n"
     ]
    }
   ],
   "source": [
    "from abc import ABC, abstractmethod\n",
    "\n",
    "class Shape(ABC):\n",
    "    @abstractmethod\n",
    "    def area(self):\n",
    "        pass\n",
    "\n",
    "class Circle(Shape):\n",
    "    def __init__(self, radius):\n",
    "        self.radius = radius\n",
    "    \n",
    "    def area(self):\n",
    "        return 3.14 * self.radius * self.radius\n",
    "\n",
    "circle = Circle(5)\n",
    "print(\"Area of Circle:\", circle.area())  \n"
   ]
  },
  {
   "cell_type": "code",
   "execution_count": null,
   "id": "1721dc46-8809-4f88-843c-0e581816e7e7",
   "metadata": {},
   "outputs": [],
   "source": [
    "2. Interfaces:\n",
    "While Python doesn't have a built-in keyword for interfaces like some other languages,\n",
    "interfaces can be simulated using abstract classes with abstract methods. By defining\n",
    "an abstract class with abstract methods, you create an interface that concrete classes \n",
    "must implement."
   ]
  },
  {
   "cell_type": "code",
   "execution_count": 11,
   "id": "51db0c5e-57c5-44fa-b3dd-86013c2a993d",
   "metadata": {},
   "outputs": [
    {
     "name": "stdout",
     "output_type": "stream",
     "text": [
      "Implemented method1\n",
      "Implemented method2\n"
     ]
    }
   ],
   "source": [
    "from abc import ABC, abstractmethod\n",
    "\n",
    "class InterfaceExample(ABC):\n",
    "    @abstractmethod\n",
    "    def method1(self):\n",
    "        pass\n",
    "    \n",
    "    @abstractmethod\n",
    "    def method2(self):\n",
    "        pass\n",
    "\n",
    "class ConcreteClass(InterfaceExample):\n",
    "    def method1(self):\n",
    "        print(\"Implemented method1\")\n",
    "    \n",
    "    def method2(self):\n",
    "        print(\"Implemented method2\")\n",
    "\n",
    "obj = ConcreteClass()\n",
    "obj.method1()  \n",
    "obj.method2() \n"
   ]
  },
  {
   "cell_type": "markdown",
   "id": "5255733a-b9e0-4621-9028-cec4d0f9e7b8",
   "metadata": {},
   "source": [
    "Q5. Can we create an instance of an abstract class? Explain your answer."
   ]
  },
  {
   "cell_type": "code",
   "execution_count": null,
   "id": "159d67b5-863d-4fa0-8040-618325d03699",
   "metadata": {},
   "outputs": [],
   "source": [
    "No, we cannot create an instance of an abstract class in Python. An abstract class is a class that cannot \n",
    "be instantiated directly. It is meant to be subclassed by other classes. Abstract classes are defined using the abc module in Python, and they\n",
    "can contain abstract methods (methods without implementation) that must be implemented by their subclasses.\n",
    "\n",
    "Attempting to create an instance of an abstract class will result in a TypeError. Abstract classes are meant to provide a blueprint for other\n",
    "classes, and they are incomplete on their own, so creating objects directly from them doesn't make sense."
   ]
  },
  {
   "cell_type": "code",
   "execution_count": 12,
   "id": "b3c54427-3c50-4225-8c3b-ba9e18cb1f5f",
   "metadata": {},
   "outputs": [
    {
     "ename": "TypeError",
     "evalue": "Can't instantiate abstract class AbstractClass with abstract method abstract_method",
     "output_type": "error",
     "traceback": [
      "\u001b[0;31m---------------------------------------------------------------------------\u001b[0m",
      "\u001b[0;31mTypeError\u001b[0m                                 Traceback (most recent call last)",
      "Cell \u001b[0;32mIn[12], line 9\u001b[0m\n\u001b[1;32m      4\u001b[0m     \u001b[38;5;129m@abstractmethod\u001b[39m\n\u001b[1;32m      5\u001b[0m     \u001b[38;5;28;01mdef\u001b[39;00m \u001b[38;5;21mabstract_method\u001b[39m(\u001b[38;5;28mself\u001b[39m):\n\u001b[1;32m      6\u001b[0m         \u001b[38;5;28;01mpass\u001b[39;00m\n\u001b[0;32m----> 9\u001b[0m obj \u001b[38;5;241m=\u001b[39m \u001b[43mAbstractClass\u001b[49m\u001b[43m(\u001b[49m\u001b[43m)\u001b[49m  \n",
      "\u001b[0;31mTypeError\u001b[0m: Can't instantiate abstract class AbstractClass with abstract method abstract_method"
     ]
    }
   ],
   "source": [
    "from abc import ABC, abstractmethod\n",
    "\n",
    "class AbstractClass(ABC):\n",
    "    @abstractmethod\n",
    "    def abstract_method(self):\n",
    "        pass\n",
    "\n",
    "\n",
    "obj = AbstractClass()  \n"
   ]
  },
  {
   "cell_type": "code",
   "execution_count": null,
   "id": "ef6f174c-f13f-4154-a9e3-873e16d39ddc",
   "metadata": {},
   "outputs": [],
   "source": []
  },
  {
   "cell_type": "code",
   "execution_count": null,
   "id": "34c13795-fb2a-473f-a0da-0aae7fd3da52",
   "metadata": {},
   "outputs": [],
   "source": []
  },
  {
   "cell_type": "code",
   "execution_count": null,
   "id": "a20512b4-06a2-4e89-86b0-aeea49341ce2",
   "metadata": {},
   "outputs": [],
   "source": []
  },
  {
   "cell_type": "code",
   "execution_count": null,
   "id": "f35cb993-5b8f-49bb-a009-90f7744c3526",
   "metadata": {},
   "outputs": [],
   "source": []
  },
  {
   "cell_type": "code",
   "execution_count": null,
   "id": "1bbd58ed-a109-4d09-8dc6-da31811120a1",
   "metadata": {},
   "outputs": [],
   "source": []
  },
  {
   "cell_type": "code",
   "execution_count": null,
   "id": "46a5a2b1-fe93-415f-83ad-22d6fc2f009c",
   "metadata": {},
   "outputs": [],
   "source": []
  },
  {
   "cell_type": "code",
   "execution_count": null,
   "id": "cbfd55f2-7783-4bfd-99e0-913fc71f1386",
   "metadata": {},
   "outputs": [],
   "source": []
  },
  {
   "cell_type": "code",
   "execution_count": null,
   "id": "185954bd-24c6-430f-ac4b-ee39e95f31fc",
   "metadata": {},
   "outputs": [],
   "source": []
  },
  {
   "cell_type": "code",
   "execution_count": null,
   "id": "34c0cd59-2d67-41d9-a234-6b713a06dd50",
   "metadata": {},
   "outputs": [],
   "source": []
  },
  {
   "cell_type": "code",
   "execution_count": null,
   "id": "50afb1d5-4bdb-4c41-b739-479adc6e8a15",
   "metadata": {},
   "outputs": [],
   "source": []
  },
  {
   "cell_type": "code",
   "execution_count": null,
   "id": "91a923b0-2d6c-4457-88ad-503805665b57",
   "metadata": {},
   "outputs": [],
   "source": []
  },
  {
   "cell_type": "code",
   "execution_count": null,
   "id": "9fcd70f8-e19b-40b5-871c-5ec348102c42",
   "metadata": {},
   "outputs": [],
   "source": []
  },
  {
   "cell_type": "code",
   "execution_count": null,
   "id": "9cad0c42-c092-449f-a50b-93384943e77e",
   "metadata": {},
   "outputs": [],
   "source": []
  },
  {
   "cell_type": "code",
   "execution_count": null,
   "id": "37467b8d-6a6e-4f0d-b16b-3b009e890f85",
   "metadata": {},
   "outputs": [],
   "source": []
  },
  {
   "cell_type": "code",
   "execution_count": null,
   "id": "95aabe93-d27f-467f-af7a-85e6e01976c0",
   "metadata": {},
   "outputs": [],
   "source": []
  },
  {
   "cell_type": "code",
   "execution_count": null,
   "id": "c28c80d1-3d8e-4434-860a-69ab0388f762",
   "metadata": {},
   "outputs": [],
   "source": []
  },
  {
   "cell_type": "code",
   "execution_count": null,
   "id": "fa37ceff-f079-4d05-aa31-d6755b01f607",
   "metadata": {},
   "outputs": [],
   "source": []
  },
  {
   "cell_type": "code",
   "execution_count": null,
   "id": "0b989d3d-1d67-42d9-99b2-24d147293ff2",
   "metadata": {},
   "outputs": [],
   "source": []
  },
  {
   "cell_type": "code",
   "execution_count": null,
   "id": "b8900971-0f65-48cb-bb2a-4ff004a5f956",
   "metadata": {},
   "outputs": [],
   "source": []
  },
  {
   "cell_type": "code",
   "execution_count": null,
   "id": "5ac8baad-3c78-42f9-b6ec-8bd161c0d3b7",
   "metadata": {},
   "outputs": [],
   "source": []
  },
  {
   "cell_type": "code",
   "execution_count": null,
   "id": "841b1d9f-daad-471e-8f9b-66e4fc08c59b",
   "metadata": {},
   "outputs": [],
   "source": []
  },
  {
   "cell_type": "code",
   "execution_count": null,
   "id": "e24526ae-6a91-48b6-92af-7089e1290703",
   "metadata": {},
   "outputs": [],
   "source": []
  },
  {
   "cell_type": "code",
   "execution_count": null,
   "id": "7ef2fc64-ac0c-45fc-a4eb-297574c87455",
   "metadata": {},
   "outputs": [],
   "source": []
  },
  {
   "cell_type": "code",
   "execution_count": null,
   "id": "f76bed81-7ac3-4f50-b14d-f61872a8ac0a",
   "metadata": {},
   "outputs": [],
   "source": []
  },
  {
   "cell_type": "code",
   "execution_count": null,
   "id": "442dc815-4d7c-48c8-9e96-7b946dbfdf66",
   "metadata": {},
   "outputs": [],
   "source": []
  },
  {
   "cell_type": "code",
   "execution_count": null,
   "id": "624a77d7-666d-4676-b894-ead270c922d9",
   "metadata": {},
   "outputs": [],
   "source": []
  },
  {
   "cell_type": "code",
   "execution_count": null,
   "id": "82241339-5f28-4978-89bf-9a4127a931be",
   "metadata": {},
   "outputs": [],
   "source": []
  },
  {
   "cell_type": "code",
   "execution_count": null,
   "id": "61bc4083-e23c-49aa-84d9-98bae394b92a",
   "metadata": {},
   "outputs": [],
   "source": []
  },
  {
   "cell_type": "code",
   "execution_count": null,
   "id": "670d2789-d83b-4f4e-b61c-65416b0a1e51",
   "metadata": {},
   "outputs": [],
   "source": []
  },
  {
   "cell_type": "code",
   "execution_count": null,
   "id": "7d5711b4-4f15-41c4-93ca-8885d2d0e484",
   "metadata": {},
   "outputs": [],
   "source": []
  },
  {
   "cell_type": "code",
   "execution_count": null,
   "id": "9503dec7-b272-44c4-a683-8ccb56d0e641",
   "metadata": {},
   "outputs": [],
   "source": []
  },
  {
   "cell_type": "code",
   "execution_count": null,
   "id": "090dba06-62a2-48d6-83d0-06f38eba4861",
   "metadata": {},
   "outputs": [],
   "source": []
  },
  {
   "cell_type": "code",
   "execution_count": null,
   "id": "24fb3276-8826-47b6-a4fe-5b91b5b1ff62",
   "metadata": {},
   "outputs": [],
   "source": []
  },
  {
   "cell_type": "code",
   "execution_count": null,
   "id": "76125f50-bc27-418b-9544-c82e7f1fdf64",
   "metadata": {},
   "outputs": [],
   "source": []
  },
  {
   "cell_type": "code",
   "execution_count": null,
   "id": "5fe5fc76-09e1-437b-b481-09b01fe1130a",
   "metadata": {},
   "outputs": [],
   "source": []
  },
  {
   "cell_type": "code",
   "execution_count": null,
   "id": "e2825a0b-5206-4ddd-9735-63847cde3095",
   "metadata": {},
   "outputs": [],
   "source": []
  },
  {
   "cell_type": "code",
   "execution_count": null,
   "id": "83e9389e-1fbd-47a4-a3c3-230168a7f523",
   "metadata": {},
   "outputs": [],
   "source": []
  },
  {
   "cell_type": "code",
   "execution_count": null,
   "id": "05cac508-9ff3-444b-8694-1c22c1835fd0",
   "metadata": {},
   "outputs": [],
   "source": []
  },
  {
   "cell_type": "code",
   "execution_count": null,
   "id": "79ff6ef5-6d2e-47a7-880a-e5084f0767f3",
   "metadata": {},
   "outputs": [],
   "source": []
  }
 ],
 "metadata": {
  "kernelspec": {
   "display_name": "Python 3 (ipykernel)",
   "language": "python",
   "name": "python3"
  },
  "language_info": {
   "codemirror_mode": {
    "name": "ipython",
    "version": 3
   },
   "file_extension": ".py",
   "mimetype": "text/x-python",
   "name": "python",
   "nbconvert_exporter": "python",
   "pygments_lexer": "ipython3",
   "version": "3.10.8"
  }
 },
 "nbformat": 4,
 "nbformat_minor": 5
}
