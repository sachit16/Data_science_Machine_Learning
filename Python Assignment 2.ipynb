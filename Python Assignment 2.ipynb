{
 "cells": [
  {
   "cell_type": "code",
   "execution_count": null,
   "id": "950f5d66-380e-408d-ad3c-ef0862e35b40",
   "metadata": {},
   "outputs": [],
   "source": [
    "Q1. Create a python program to sort the given list of tuples based on integer value using a\n",
    "lambda function."
   ]
  },
  {
   "cell_type": "code",
   "execution_count": 2,
   "id": "ba2ba452-eb25-4edd-a0ae-384405f4626d",
   "metadata": {},
   "outputs": [
    {
     "name": "stdout",
     "output_type": "stream",
     "text": [
      "Sorted List of Tuples based on Integer Value:\n",
      "[('Virat Kohli', 24936), ('Jack Kallis', 25534), ('Ricky Ponting', 27483), ('Sachin Tendulkar', 34357)]\n"
     ]
    }
   ],
   "source": [
    "# Given list of tuples\n",
    "tuples_list = [('Sachin Tendulkar', 34357), ('Ricky Ponting', 27483), ('Jack Kallis', 25534), ('Virat Kohli', 24936)]\n",
    "\n",
    "# Sorting the list of tuples based on the integer value using a lambda function\n",
    "sorted_tuples = sorted(tuples_list, key=lambda x: x[1])\n",
    "\n",
    "# Printing the sorted list of tuples\n",
    "print(\"Sorted List of Tuples based on Integer Value:\")\n",
    "print(sorted_tuples)\n"
   ]
  },
  {
   "cell_type": "code",
   "execution_count": null,
   "id": "28ab25f4-5da7-413a-90b2-d6295521a068",
   "metadata": {},
   "outputs": [],
   "source": [
    "Q2. Write a Python Program to find the squares of all the numbers in the given list of integers using\n",
    "lambda and map functions.\n",
    "[1, 2, 3, 4, 5, 6, 7, 8, 9, 10]"
   ]
  },
  {
   "cell_type": "code",
   "execution_count": 4,
   "id": "55ebe93f-ed83-4776-b5b0-8c8496bc7be5",
   "metadata": {},
   "outputs": [],
   "source": [
    "l=[1, 2, 3, 4, 5, 6, 7, 8, 9, 10]"
   ]
  },
  {
   "cell_type": "code",
   "execution_count": 5,
   "id": "d2b87f5f-eee7-4a20-af87-59f8a5ca54d5",
   "metadata": {},
   "outputs": [],
   "source": [
    "square=list(map(lambda x:x**2,l))"
   ]
  },
  {
   "cell_type": "code",
   "execution_count": 6,
   "id": "e85945b7-33e3-49a1-b1f2-a895afea691e",
   "metadata": {},
   "outputs": [
    {
     "data": {
      "text/plain": [
       "[1, 4, 9, 16, 25, 36, 49, 64, 81, 100]"
      ]
     },
     "execution_count": 6,
     "metadata": {},
     "output_type": "execute_result"
    }
   ],
   "source": [
    "square"
   ]
  },
  {
   "cell_type": "code",
   "execution_count": null,
   "id": "8fc883a0-ff68-4c1c-aa4d-264a80a944fc",
   "metadata": {},
   "outputs": [],
   "source": [
    "Q3. Write a python program to convert the given list of integers into a tuple of strings. Use map and\n",
    "lambda functions\n",
    "Given String: [1, 2, 3, 4, 5, 6, 7, 8, 9, 10]"
   ]
  },
  {
   "cell_type": "code",
   "execution_count": 7,
   "id": "ac3658a4-cfef-427a-81b3-c4488a59334e",
   "metadata": {},
   "outputs": [],
   "source": [
    "l1= [1, 2, 3, 4, 5, 6, 7, 8, 9, 10]"
   ]
  },
  {
   "cell_type": "code",
   "execution_count": 8,
   "id": "f98ae007-a830-498b-988e-23b7fd858791",
   "metadata": {},
   "outputs": [],
   "source": [
    "l2=list(map(lambda x:str(x),l1))"
   ]
  },
  {
   "cell_type": "code",
   "execution_count": 9,
   "id": "0bfa3816-9ede-4bc4-836a-de4e93f6b47b",
   "metadata": {},
   "outputs": [
    {
     "data": {
      "text/plain": [
       "['1', '2', '3', '4', '5', '6', '7', '8', '9', '10']"
      ]
     },
     "execution_count": 9,
     "metadata": {},
     "output_type": "execute_result"
    }
   ],
   "source": [
    "l2"
   ]
  },
  {
   "cell_type": "markdown",
   "id": "24a9615b-b2a1-41bc-9d5a-e82e292ac03b",
   "metadata": {},
   "source": [
    "Q4. Write a python program using reduce function to compute the product of a list containing numbers\n",
    "from 1 to 25."
   ]
  },
  {
   "cell_type": "code",
   "execution_count": 11,
   "id": "5fa3a4d4-c5ed-4de0-bf5c-316831d4c370",
   "metadata": {},
   "outputs": [],
   "source": [
    "l3=range(1,26)"
   ]
  },
  {
   "cell_type": "code",
   "execution_count": 13,
   "id": "8353b927-e4c7-4df7-b4a9-3e3908dbf917",
   "metadata": {},
   "outputs": [],
   "source": [
    "from functools import reduce\n",
    "product=reduce(lambda x,y:x*y,l3)"
   ]
  },
  {
   "cell_type": "code",
   "execution_count": 14,
   "id": "964c3045-302c-4c13-91c1-1f86a77b8e5c",
   "metadata": {},
   "outputs": [
    {
     "data": {
      "text/plain": [
       "15511210043330985984000000"
      ]
     },
     "execution_count": 14,
     "metadata": {},
     "output_type": "execute_result"
    }
   ],
   "source": [
    "product\n",
    "## this is nothing but a factorial of 25"
   ]
  },
  {
   "cell_type": "code",
   "execution_count": null,
   "id": "2419cf05-1c62-49b8-898c-227e704df746",
   "metadata": {},
   "outputs": [],
   "source": [
    "Q5. Write a python program to filter the numbers in a given list that are divisible by 2 and 3 using the\n",
    "filter function."
   ]
  },
  {
   "cell_type": "code",
   "execution_count": 15,
   "id": "697c2114-9965-44ac-882f-1ae5d37e2023",
   "metadata": {},
   "outputs": [],
   "source": [
    "l4=[2, 3, 6, 9, 27, 60, 90, 120, 55, 46]"
   ]
  },
  {
   "cell_type": "code",
   "execution_count": 18,
   "id": "848a8ff9-05e9-40fb-a666-6f4e26ff7d1a",
   "metadata": {},
   "outputs": [],
   "source": [
    "l5=list(filter(lambda x:x%2==0 and x%3==0,l4))"
   ]
  },
  {
   "cell_type": "code",
   "execution_count": 19,
   "id": "5f6b8314-faee-4f7c-9b6c-8b5ce6371aed",
   "metadata": {},
   "outputs": [
    {
     "data": {
      "text/plain": [
       "[6, 60, 90, 120]"
      ]
     },
     "execution_count": 19,
     "metadata": {},
     "output_type": "execute_result"
    }
   ],
   "source": [
    "l5"
   ]
  },
  {
   "cell_type": "code",
   "execution_count": null,
   "id": "34084e87-03c2-41ed-9bc1-ccad390fde39",
   "metadata": {},
   "outputs": [],
   "source": [
    "Q6. Write a python program to find palindromes in the given list of strings using lambda and filter\n",
    "function.\n",
    "['python', 'php', 'aba', 'radar', 'level']"
   ]
  },
  {
   "cell_type": "code",
   "execution_count": 21,
   "id": "6d80d178-6765-4060-a04d-8340dde5cbe4",
   "metadata": {},
   "outputs": [],
   "source": [
    "l7=['python', 'php', 'aba', 'radar', 'level']"
   ]
  },
  {
   "cell_type": "code",
   "execution_count": 25,
   "id": "e48d2846-ae4d-4fba-a3ec-cf5c33d66aae",
   "metadata": {},
   "outputs": [],
   "source": [
    "l8=list(filter(lambda x:x==x[::-1],l7))"
   ]
  },
  {
   "cell_type": "code",
   "execution_count": 26,
   "id": "81797475-c8ca-4cc1-acbc-7bdfb537140f",
   "metadata": {},
   "outputs": [
    {
     "data": {
      "text/plain": [
       "['php', 'aba', 'radar', 'level']"
      ]
     },
     "execution_count": 26,
     "metadata": {},
     "output_type": "execute_result"
    }
   ],
   "source": [
    "l8"
   ]
  },
  {
   "cell_type": "code",
   "execution_count": null,
   "id": "e7063c39-294a-4b5b-8f62-623591b328ee",
   "metadata": {},
   "outputs": [],
   "source": []
  }
 ],
 "metadata": {
  "kernelspec": {
   "display_name": "Python 3 (ipykernel)",
   "language": "python",
   "name": "python3"
  },
  "language_info": {
   "codemirror_mode": {
    "name": "ipython",
    "version": 3
   },
   "file_extension": ".py",
   "mimetype": "text/x-python",
   "name": "python",
   "nbconvert_exporter": "python",
   "pygments_lexer": "ipython3",
   "version": "3.10.8"
  }
 },
 "nbformat": 4,
 "nbformat_minor": 5
}
