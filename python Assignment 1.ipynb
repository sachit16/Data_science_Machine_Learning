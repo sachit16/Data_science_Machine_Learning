{
 "cells": [
  {
   "cell_type": "code",
   "execution_count": null,
   "id": "ac284760-eda3-4cc5-bd55-680ff10be972",
   "metadata": {},
   "outputs": [],
   "source": [
    "Q1. Which keyword is used to create a function? Create a function to return a list of odd numbers in the\n",
    "range of 1 to 25."
   ]
  },
  {
   "cell_type": "code",
   "execution_count": null,
   "id": "8070f39d-2b58-4fba-bba3-2e7b040b80d2",
   "metadata": {},
   "outputs": [],
   "source": [
    "In Python, the `def` keyword is used to create a function. Here's how you can create a function to return a list of odd numbers in the range of 1 to 25:\n"
   ]
  },
  {
   "cell_type": "code",
   "execution_count": 1,
   "id": "e2b57fb0-df6c-4340-85ba-b0afc72367ae",
   "metadata": {},
   "outputs": [
    {
     "name": "stdout",
     "output_type": "stream",
     "text": [
      "[1, 3, 5, 7, 9, 11, 13, 15, 17, 19, 21, 23, 25]\n"
     ]
    }
   ],
   "source": [
    "\n",
    "\n",
    "def get_odd_numbers():\n",
    "    odd_numbers = []\n",
    "    for number in range(1, 26):\n",
    "        if number % 2 != 0:\n",
    "            odd_numbers.append(number)\n",
    "    return odd_numbers\n",
    "\n",
    "# Call the function and print the result\n",
    "result = get_odd_numbers()\n",
    "print(result)\n"
   ]
  },
  {
   "cell_type": "code",
   "execution_count": null,
   "id": "ef896a4a-a530-418a-a75c-59fd9d7c5491",
   "metadata": {},
   "outputs": [],
   "source": [
    "Q2. Why *args and **kwargs is used in some functions? Create a function each for *args and **kwargs\n",
    "to demonstrate their use."
   ]
  },
  {
   "cell_type": "code",
   "execution_count": null,
   "id": "b983b0df-29b3-4893-9511-306291c2ac51",
   "metadata": {},
   "outputs": [],
   "source": [
    "In Python, `*args` and `**kwargs` are used to pass a variable number of arguments to a function. \n",
    "\n",
    "- `*args` allows you to pass a variable number of non-keyword arguments to a function. It is used when you want to pass multiple positional arguments to a function without knowing in advance how many arguments there will be.\n",
    "- `**kwargs` allows you to pass a variable number of keyword arguments to a function. It is used when you want to pass multiple keyword arguments to a function without knowing in advance how many arguments there will be.\n",
    "\n"
   ]
  },
  {
   "cell_type": "code",
   "execution_count": 2,
   "id": "fd045546-bd1a-4133-99a3-85ef3b37669b",
   "metadata": {},
   "outputs": [
    {
     "name": "stdout",
     "output_type": "stream",
     "text": [
      "Sum of numbers: 15\n"
     ]
    }
   ],
   "source": [
    "\n",
    "def sum_numbers(*args):\n",
    "    total = 0\n",
    "    for num in args:\n",
    "        total += num\n",
    "    return total\n",
    "\n",
    "# Example usage of the function with variable number of arguments\n",
    "result = sum_numbers(1, 2, 3, 4, 5)\n",
    "print(\"Sum of numbers:\", result)\n",
    "\n"
   ]
  },
  {
   "cell_type": "code",
   "execution_count": 4,
   "id": "6d827e4a-5d5c-4061-89c2-ebf3525d696b",
   "metadata": {},
   "outputs": [
    {
     "name": "stdout",
     "output_type": "stream",
     "text": [
      "User Info:\n",
      "name: Sachit\n",
      "age: 20\n",
      "city: Karad\n"
     ]
    }
   ],
   "source": [
    "\n",
    "### Function with **kwargs:\n",
    "\n",
    "def print_user_info(**kwargs):\n",
    "    print(\"User Info:\")\n",
    "    for key, value in kwargs.items():\n",
    "        print(f\"{key}: {value}\")\n",
    "\n",
    "# Example usage of the function with variable keyword arguments\n",
    "print_user_info(name=\"Sachit\", age=20, city=\"Karad\")\n"
   ]
  },
  {
   "cell_type": "code",
   "execution_count": null,
   "id": "eb837efd-f742-4f8d-a574-0af864fc6e60",
   "metadata": {},
   "outputs": [],
   "source": [
    "Q3. What is an iterator in python? Name the method used to initialise the iterator object and the method\n",
    "used for iteration. Use these methods to print the first five elements of the given list [2, 4, 6, 8, 10, 12, 14,\n",
    "16, 18, 20]."
   ]
  },
  {
   "cell_type": "code",
   "execution_count": null,
   "id": "93b36e2b-3da9-4ef8-af3c-ba8309f194ac",
   "metadata": {},
   "outputs": [],
   "source": [
    "An iterator in Python is an object that can be iterated (looped) upon. It is an object that implements the iterator protocol, which consists of the methods `__iter__()` and `__next__()`. \n",
    "\n",
    "- The `__iter__()` method initializes the iterator object and returns the iterator object itself. It is called when you create an iterator object for the iterable.\n",
    "- The `__next__()` method returns the next value from the iterator. It is called during each iteration to get the next value.\n",
    "\n",
    "Here's how you can create an iterator for the given list [2, 4, 6, 8, 10, 12, 14, 16, 18, 20] and print the first five elements using the iterator protocol:\n",
    "\n"
   ]
  },
  {
   "cell_type": "code",
   "execution_count": 6,
   "id": "12f7da02-40ac-4345-9e31-d4b9d8b535b1",
   "metadata": {},
   "outputs": [
    {
     "name": "stdout",
     "output_type": "stream",
     "text": [
      "2\n",
      "4\n",
      "6\n",
      "8\n",
      "10\n"
     ]
    }
   ],
   "source": [
    "\n",
    "\n",
    "# Create an instance of the iterator\n",
    "my_list = [2, 4, 6, 8, 10, 12, 14, 16, 18, 20]\n",
    "my_iterator = iter(my_list)\n",
    "\n",
    "# Iterate and print the first five elements\n",
    "for i in range(5):\n",
    "    print(next(my_iterator))\n"
   ]
  },
  {
   "cell_type": "code",
   "execution_count": null,
   "id": "57531f1d-ffab-4b70-b8c3-5e310a6bb97d",
   "metadata": {},
   "outputs": [],
   "source": [
    "Q4. What is a generator function in python? Why yield keyword is used? Give an example of a generator\n",
    "function."
   ]
  },
  {
   "cell_type": "code",
   "execution_count": null,
   "id": "17bf7390-a2d1-49f5-af26-913413cb3680",
   "metadata": {},
   "outputs": [],
   "source": [
    "A generator function in Python is a special type of function that allows you to create an iterator in a more concise and readable way. It uses the `yield` keyword instead of `return` to produce a series of values over time. When a generator function is called, it returns a generator object, which can be iterated to retrieve the values one at a time. \n",
    "\n",
    "The use of generators is memory-efficient, especially when dealing with large datasets, because they don't store all the values in memory at once. Instead, they generate values on-the-fly, allowing you to iterate over them without loading the entire dataset into memory.\n",
    "\n",
    "Here's an example of a generator function that yields the squares of numbers from 1 to n:\n"
   ]
  },
  {
   "cell_type": "code",
   "execution_count": 7,
   "id": "d7e723ae-4143-4898-a0e0-f42a8af9a992",
   "metadata": {},
   "outputs": [
    {
     "name": "stdout",
     "output_type": "stream",
     "text": [
      "1\n",
      "4\n",
      "9\n",
      "16\n",
      "25\n"
     ]
    }
   ],
   "source": [
    "\n",
    "\n",
    "def square_generator(n):\n",
    "    for i in range(1, n + 1):\n",
    "        yield i ** 2\n",
    "\n",
    "# Using the generator function\n",
    "n = 5\n",
    "square_gen = square_generator(n)\n",
    "\n",
    "# Iterating over the generator\n",
    "for square in square_gen:\n",
    "    print(square)\n"
   ]
  },
  {
   "cell_type": "code",
   "execution_count": null,
   "id": "30c0ced4-b765-43f6-bbe5-2a2cc43da1b0",
   "metadata": {},
   "outputs": [],
   "source": [
    "Q5. Create a generator function for prime numbers less than 1000. Use the next() method to print the\n",
    "first 20 prime numbers."
   ]
  },
  {
   "cell_type": "code",
   "execution_count": 11,
   "id": "1a4d9a57-97ce-4c5c-b14e-d73cd034e0ec",
   "metadata": {},
   "outputs": [],
   "source": [
    "def is_prime(num):\n",
    "    if num <= 1:\n",
    "        return False\n",
    "    for i in range(2, int(num**0.5) + 1):\n",
    "        if num % i == 0:\n",
    "            return False\n",
    "    return True\n"
   ]
  },
  {
   "cell_type": "code",
   "execution_count": 12,
   "id": "7a77cbdf-0cac-4af6-8b2c-1257c5132703",
   "metadata": {},
   "outputs": [],
   "source": [
    "def prime_generator():\n",
    "    num = 2\n",
    "    while num < 1000:\n",
    "        if is_prime(num):\n",
    "            yield num\n",
    "        num += 1\n"
   ]
  },
  {
   "cell_type": "code",
   "execution_count": 15,
   "id": "6248caa8-5e04-48f7-a3b3-dbcc2e93c822",
   "metadata": {},
   "outputs": [
    {
     "name": "stdout",
     "output_type": "stream",
     "text": [
      "2\n",
      "3\n",
      "5\n",
      "7\n",
      "11\n",
      "13\n",
      "17\n",
      "19\n",
      "23\n",
      "29\n",
      "31\n",
      "37\n",
      "41\n",
      "43\n",
      "47\n",
      "53\n",
      "59\n",
      "61\n",
      "67\n",
      "71\n"
     ]
    }
   ],
   "source": [
    "\n",
    "\n",
    "# Using the generator function to print the first 20 prime numbers\n",
    "prime_gen = prime_generator()\n",
    "\n",
    "for i in range(20):\n",
    "    print(next(prime_gen))\n"
   ]
  },
  {
   "cell_type": "code",
   "execution_count": null,
   "id": "f02f0f97-a3da-4b78-9c1e-a4eba83d42e8",
   "metadata": {},
   "outputs": [],
   "source": [
    "Q6. Write a python program to print the first 10 Fibonacci numbers using a while loop."
   ]
  },
  {
   "cell_type": "code",
   "execution_count": 16,
   "id": "dcfb7335-06ad-4833-95d5-13810920b92c",
   "metadata": {},
   "outputs": [
    {
     "name": "stdout",
     "output_type": "stream",
     "text": [
      "0\n",
      "1\n",
      "1\n",
      "2\n",
      "3\n",
      "5\n",
      "8\n",
      "13\n",
      "21\n",
      "34\n"
     ]
    }
   ],
   "source": [
    "# Initialize variables for the first two Fibonacci numbers\n",
    "first_num, second_num = 0, 1\n",
    "count = 0\n",
    "\n",
    "# Iterate using a while loop to generate and print the first 10 Fibonacci numbers\n",
    "while count < 10:\n",
    "    print(first_num)\n",
    "    nth_fibonacci = first_num + second_num\n",
    "    \n",
    "    # Update values for the next iteration\n",
    "    first_num = second_num\n",
    "    second_num = nth_fibonacci\n",
    "    count += 1\n"
   ]
  },
  {
   "cell_type": "code",
   "execution_count": null,
   "id": "6b69d58c-6866-42f0-ae74-828fd2d2992b",
   "metadata": {},
   "outputs": [],
   "source": [
    "Q7. Write a List Comprehension to iterate through the given string: ‘pwskills’.\n",
    "Expected output: ['p', 'w', 's', 'k', 'i', 'l', 'l', 's']"
   ]
  },
  {
   "cell_type": "code",
   "execution_count": 17,
   "id": "7af492ce-cc70-4603-b854-5eb625234f6a",
   "metadata": {},
   "outputs": [
    {
     "name": "stdout",
     "output_type": "stream",
     "text": [
      "['p', 'w', 's', 'k', 'i', 'l', 'l', 's']\n"
     ]
    }
   ],
   "source": [
    "# Given string\n",
    "input_string = 'pwskills'\n",
    "\n",
    "# List comprehension to iterate through the string and create a list of characters\n",
    "output_list = [char for char in input_string]\n",
    "\n",
    "# Print the output list\n",
    "print(output_list)\n"
   ]
  },
  {
   "cell_type": "code",
   "execution_count": null,
   "id": "17ddcd30-0ecb-4ba3-91ab-c2063833e89a",
   "metadata": {},
   "outputs": [],
   "source": [
    "Q8. Write a python program to check whether a given number is Palindrome or not using a while loop."
   ]
  },
  {
   "cell_type": "code",
   "execution_count": 18,
   "id": "3f1b9695-0c75-48be-a151-4e9e6b9a53f2",
   "metadata": {},
   "outputs": [
    {
     "name": "stdin",
     "output_type": "stream",
     "text": [
      "Enter a number:  455554\n"
     ]
    },
    {
     "name": "stdout",
     "output_type": "stream",
     "text": [
      "455554 is a palindrome number.\n"
     ]
    }
   ],
   "source": [
    "# Function to check if a number is palindrome\n",
    "def is_palindrome(num):\n",
    "    original_num = num\n",
    "    reverse_num = 0\n",
    "    \n",
    "    # Reversing the number\n",
    "    while num > 0:\n",
    "        digit = num % 10\n",
    "        reverse_num = reverse_num * 10 + digit\n",
    "        num = num // 10\n",
    "    \n",
    "    # Checking if the number is palindrome\n",
    "    if original_num == reverse_num:\n",
    "        return True\n",
    "    else:\n",
    "        return False\n",
    "\n",
    "# Taking input from the user\n",
    "number = int(input(\"Enter a number: \"))\n",
    "\n",
    "# Checking if the number is palindrome or not\n",
    "if is_palindrome(number):\n",
    "    print(f\"{number} is a palindrome number.\")\n",
    "else:\n",
    "    print(f\"{number} is not a palindrome number.\")\n"
   ]
  },
  {
   "cell_type": "code",
   "execution_count": null,
   "id": "7bcffbad-57bb-498a-8940-62ec867f9966",
   "metadata": {},
   "outputs": [],
   "source": [
    "Q9. Write a code to print odd numbers from 1 to 100 using list comprehension."
   ]
  }
 ],
 "metadata": {
  "kernelspec": {
   "display_name": "Python 3 (ipykernel)",
   "language": "python",
   "name": "python3"
  },
  "language_info": {
   "codemirror_mode": {
    "name": "ipython",
    "version": 3
   },
   "file_extension": ".py",
   "mimetype": "text/x-python",
   "name": "python",
   "nbconvert_exporter": "python",
   "pygments_lexer": "ipython3",
   "version": "3.10.8"
  }
 },
 "nbformat": 4,
 "nbformat_minor": 5
}
