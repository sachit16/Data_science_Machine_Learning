{
 "cells": [
  {
   "cell_type": "markdown",
   "id": "8b439d15-f62d-480e-b78d-ca0fad856758",
   "metadata": {},
   "source": [
    "Q1. Create one variable containing following type of data:\n",
    "(i) string\n",
    "(ii) list\n",
    "(iii) float\n",
    "(iv) tuple"
   ]
  },
  {
   "cell_type": "code",
   "execution_count": 1,
   "id": "9f749aa1-140f-4543-b92a-18f03a14fae4",
   "metadata": {},
   "outputs": [
    {
     "name": "stdout",
     "output_type": "stream",
     "text": [
      "Sachit bhor\n",
      "<class 'str'>\n"
     ]
    }
   ],
   "source": [
    "#string variable\n",
    "str='Sachit bhor'\n",
    "print(str)\n",
    "print(type(str))"
   ]
  },
  {
   "cell_type": "code",
   "execution_count": 3,
   "id": "12a6b1f3-1c08-4522-8745-473c17793ac8",
   "metadata": {},
   "outputs": [
    {
     "name": "stdout",
     "output_type": "stream",
     "text": [
      "[1, 2, 3, 4, 5]\n",
      "<class 'list'>\n"
     ]
    }
   ],
   "source": [
    "#List variable\n",
    "l=[1,2,3,4,5]\n",
    "print(l)\n",
    "print(type(l))"
   ]
  },
  {
   "cell_type": "code",
   "execution_count": 4,
   "id": "aefb441b-9dad-4694-b75b-68358fc807d8",
   "metadata": {},
   "outputs": [
    {
     "name": "stdout",
     "output_type": "stream",
     "text": [
      "2.697\n",
      "<class 'float'>\n"
     ]
    }
   ],
   "source": [
    "#float Variable\n",
    "f=2.697\n",
    "print(f)\n",
    "print(type(f))"
   ]
  },
  {
   "cell_type": "code",
   "execution_count": 6,
   "id": "0966affe-b000-4f01-a11c-6491987f2f64",
   "metadata": {},
   "outputs": [
    {
     "name": "stdout",
     "output_type": "stream",
     "text": [
      "(6, 7, 5, 8, 9)\n",
      "<class 'tuple'>\n"
     ]
    }
   ],
   "source": [
    "#tuple variable\n",
    "t=(6,7,5,8,9)\n",
    "print(t)\n",
    "print(type(t))"
   ]
  },
  {
   "cell_type": "markdown",
   "id": "8d9f9048-f707-4804-a96a-e3355bb3b566",
   "metadata": {},
   "source": [
    "Q2. Given are some following variables containing data:\n",
    "(i) var1 = ‘ ‘\n",
    "(ii) var2 = ‘[ DS , ML , Python]’\n",
    "(iii) var3 = [ ‘DS’ , ’ML’ , ‘Python’ ]\n",
    "(iv) var4 = 1.\n",
    "What will be the data type of the above given variable."
   ]
  },
  {
   "cell_type": "code",
   "execution_count": 7,
   "id": "fd93707b-957b-4829-a5dc-5eb974b67aef",
   "metadata": {},
   "outputs": [
    {
     "name": "stdout",
     "output_type": "stream",
     "text": [
      "<class 'str'>\n"
     ]
    }
   ],
   "source": [
    "var1 = ' '\n",
    "print(type(var1))\n",
    "# string varible"
   ]
  },
  {
   "cell_type": "code",
   "execution_count": 8,
   "id": "94daeff9-0986-47fe-be0e-86125edd0edf",
   "metadata": {},
   "outputs": [
    {
     "name": "stdout",
     "output_type": "stream",
     "text": [
      "<class 'str'>\n"
     ]
    }
   ],
   "source": [
    "var2 = '[ DS , ML , Python]'\n",
    "print(type(var2))\n",
    "# String Variable"
   ]
  },
  {
   "cell_type": "code",
   "execution_count": 10,
   "id": "749c3668-66d9-47f7-b0fa-3f2146929be7",
   "metadata": {},
   "outputs": [
    {
     "name": "stdout",
     "output_type": "stream",
     "text": [
      "<class 'list'>\n"
     ]
    }
   ],
   "source": [
    "var3 = [ 'DS' , 'ML' , 'Python' ]\n",
    "print(type(var3))\n",
    "#list variable"
   ]
  },
  {
   "cell_type": "code",
   "execution_count": 11,
   "id": "44277dcb-e082-4232-9d31-844f438f3a80",
   "metadata": {},
   "outputs": [
    {
     "name": "stdout",
     "output_type": "stream",
     "text": [
      "<class 'int'>\n"
     ]
    }
   ],
   "source": [
    "var4 = 1\n",
    "print(type(var4))\n",
    "#int variable"
   ]
  },
  {
   "cell_type": "markdown",
   "id": "85256b02-2679-4448-8de1-abaf8b86a6ee",
   "metadata": {},
   "source": [
    "Q3. Explain the use of the following operators using an example:\n",
    "(i) /\n",
    "(ii) %\n",
    "(iii) //\n",
    "(iv) **"
   ]
  },
  {
   "cell_type": "code",
   "execution_count": null,
   "id": "4e0139c9-9569-43cd-bdc1-fea209df7007",
   "metadata": {},
   "outputs": [],
   "source": [
    "\n",
    "(i) `/` (Division Operator):\n",
    "The `/` operator is used for division in Python.\n",
    "\n",
    "In this example, `10` is divided by `3`, and the result is a floating-point number.\n",
    "\n",
    "(ii) `%` (Modulus Operator):\n",
    "The `%` operator returns the remainder when one number is divided by another.\n",
    "\n",
    "In this example, when `10` is divided by `3`, the remainder is `1`.\n",
    "\n",
    "(iii) `//` (Floor Division Operator):\n",
    "The `//` operator performs floor division, which returns the largest integer that is less than or equal to the result of the division.\n",
    "\n",
    "In this example, `10` divided by `3` using floor division results in `3`, which is the largest integer less than or equal to the actual division result `3.333...`.\n",
    "\n",
    "(iv) `**` (Exponentiation Operator):\n",
    "The `**` operator is used to raise a number to a certain power.\n",
    "\n",
    "\n",
    "In this example, `2` raised to the power of `3` equals `8`.\n"
   ]
  },
  {
   "cell_type": "code",
   "execution_count": 12,
   "id": "5d5e4028-1cfe-4420-950e-fd01660d00d0",
   "metadata": {},
   "outputs": [
    {
     "name": "stdout",
     "output_type": "stream",
     "text": [
      "3.3333333333333335\n"
     ]
    }
   ],
   "source": [
    "result = 10 / 3\n",
    "print(result)\n"
   ]
  },
  {
   "cell_type": "code",
   "execution_count": 13,
   "id": "ebd2b94c-6805-46e1-8dba-99cdeae810c3",
   "metadata": {},
   "outputs": [
    {
     "name": "stdout",
     "output_type": "stream",
     "text": [
      "1\n"
     ]
    }
   ],
   "source": [
    "remainder = 10 % 3\n",
    "print(remainder)\n"
   ]
  },
  {
   "cell_type": "code",
   "execution_count": 14,
   "id": "11865d48-5e86-4335-9c27-0252426e92fc",
   "metadata": {},
   "outputs": [
    {
     "name": "stdout",
     "output_type": "stream",
     "text": [
      "3\n"
     ]
    }
   ],
   "source": [
    "\n",
    "result = 10 // 3\n",
    "print(result)\n",
    "\n"
   ]
  },
  {
   "cell_type": "code",
   "execution_count": 15,
   "id": "16bb22a8-f922-4f4b-9032-8185ee0dee3c",
   "metadata": {},
   "outputs": [
    {
     "name": "stdout",
     "output_type": "stream",
     "text": [
      "8\n"
     ]
    }
   ],
   "source": [
    "result = 2 ** 3\n",
    "print(result)\n",
    "\n"
   ]
  },
  {
   "cell_type": "markdown",
   "id": "ce9d26eb-b904-40de-8c26-d2fa63efe124",
   "metadata": {},
   "source": [
    "Q4. Create a list of length 10 of your choice containing multiple types of data. Using for loop print the\n",
    "element and its data type."
   ]
  },
  {
   "cell_type": "code",
   "execution_count": 16,
   "id": "7939ca97-d64b-41dd-b0b6-67ac4d8e9a5a",
   "metadata": {},
   "outputs": [],
   "source": [
    "l=[1,2,3,4,5,\"sachit\",'e',True,3+4j,3.345,[77,88,99,66]]"
   ]
  },
  {
   "cell_type": "code",
   "execution_count": 17,
   "id": "3aeff404-835e-4e68-8ea8-39640be1bc3e",
   "metadata": {},
   "outputs": [
    {
     "name": "stdout",
     "output_type": "stream",
     "text": [
      "value = 1 Datatype= <class 'int'>\n",
      "value = 2 Datatype= <class 'int'>\n",
      "value = 3 Datatype= <class 'int'>\n",
      "value = 4 Datatype= <class 'int'>\n",
      "value = 5 Datatype= <class 'int'>\n",
      "value = sachit Datatype= <class 'str'>\n",
      "value = e Datatype= <class 'str'>\n",
      "value = True Datatype= <class 'bool'>\n",
      "value = (3+4j) Datatype= <class 'complex'>\n",
      "value = 3.345 Datatype= <class 'float'>\n",
      "value = [77, 88, 99, 66] Datatype= <class 'list'>\n"
     ]
    }
   ],
   "source": [
    "for i in l:\n",
    "    print(\"value =\",i,\"Datatype=\",type(i))"
   ]
  },
  {
   "cell_type": "markdown",
   "id": "1aed8494-6339-4655-872c-78fe9449a5c1",
   "metadata": {},
   "source": [
    "Q5. Using a while loop, verify if the number A is purely divisible by number B and if so then how many\n",
    "times it can be divisible."
   ]
  },
  {
   "cell_type": "code",
   "execution_count": 19,
   "id": "422327db-5890-440a-b804-52414fca8d7d",
   "metadata": {},
   "outputs": [
    {
     "name": "stdin",
     "output_type": "stream",
     "text": [
      "Enter the number A:  1000\n",
      "Enter the number B:  10\n"
     ]
    },
    {
     "name": "stdout",
     "output_type": "stream",
     "text": [
      "3 times, 10 divides 1000 evenly.\n"
     ]
    }
   ],
   "source": [
    "\n",
    "A = int(input(\"Enter the number A: \"))\n",
    "B = int(input(\"Enter the number B: \"))\n",
    "c=A\n",
    "count = 0\n",
    "while A >= B and A % B == 0:\n",
    "    A = A // B  \n",
    "    count += 1   \n",
    "\n",
    "\n",
    "if A == 1:\n",
    "    print(f\"{count} times, {B} divides {c} evenly.\")\n",
    "else:\n",
    "    print(f\"{B} does not purely divide {c}. The remainder is {A}.\")\n"
   ]
  },
  {
   "cell_type": "markdown",
   "id": "3620aef8-0e45-4b11-84e5-83261891cad2",
   "metadata": {},
   "source": [
    "Q6. Create a list containing 25 int type data. Using for loop and if-else condition print if the element is\n",
    "divisible by 3 or not."
   ]
  },
  {
   "cell_type": "code",
   "execution_count": 20,
   "id": "ed067ab9-f7d0-47bd-99e3-f0f9f401c116",
   "metadata": {},
   "outputs": [
    {
     "name": "stdout",
     "output_type": "stream",
     "text": [
      "1  is not purely Divisible by 3\n",
      "2  is not purely Divisible by 3\n",
      "3  is purely Divisible by 3\n",
      "4  is not purely Divisible by 3\n",
      "5  is not purely Divisible by 3\n",
      "6  is purely Divisible by 3\n",
      "7  is not purely Divisible by 3\n",
      "8  is not purely Divisible by 3\n",
      "9  is purely Divisible by 3\n",
      "10  is not purely Divisible by 3\n",
      "11  is not purely Divisible by 3\n",
      "12  is purely Divisible by 3\n",
      "13  is not purely Divisible by 3\n",
      "14  is not purely Divisible by 3\n",
      "15  is purely Divisible by 3\n",
      "16  is not purely Divisible by 3\n",
      "17  is not purely Divisible by 3\n",
      "18  is purely Divisible by 3\n",
      "19  is not purely Divisible by 3\n",
      "20  is not purely Divisible by 3\n",
      "21  is purely Divisible by 3\n",
      "22  is not purely Divisible by 3\n",
      "23  is not purely Divisible by 3\n",
      "24  is purely Divisible by 3\n",
      "25  is not purely Divisible by 3\n"
     ]
    }
   ],
   "source": [
    "l=list(range(1,26))\n",
    "for i in l:\n",
    "    if i%3==0:\n",
    "        print(i,' is purely Divisible by 3')\n",
    "    else:\n",
    "        print(i,' is not purely Divisible by 3')\n",
    "        "
   ]
  },
  {
   "cell_type": "markdown",
   "id": "5cbb92ce-a9d7-40fe-8c11-b251e5ffa208",
   "metadata": {},
   "source": [
    "Q7. What do you understand about mutable and immutable data types? Give examples for both showing\n",
    "this property."
   ]
  },
  {
   "cell_type": "code",
   "execution_count": null,
   "id": "4135f926-92ee-49db-92ec-5b644cb61bab",
   "metadata": {},
   "outputs": [],
   "source": [
    "\n",
    "1. Mutable Data Types:\n",
    "Mutable data types are those whose values can be altered or modified after they are created. \n",
    "When you modify a mutable object, you are actually changing its internal state. Common mutable data types \n",
    "include lists, dictionaries, and sets in Python.\n",
    "\n"
   ]
  },
  {
   "cell_type": "code",
   "execution_count": 21,
   "id": "6a812ebe-b01d-4186-9886-9341d1c16e49",
   "metadata": {},
   "outputs": [
    {
     "name": "stdout",
     "output_type": "stream",
     "text": [
      "[1, 2, 3, 4]\n",
      "[10, 2, 3, 4]\n"
     ]
    }
   ],
   "source": [
    "my_list = [1, 2, 3]\n",
    "my_list.append(4)  # Modifies the list by adding an element.\n",
    "print(my_list)  # Output: [1, 2, 3, 4]\n",
    "\n",
    "my_list[0] = 10  # Modifies the first element of the list.\n",
    "print(my_list)  # Output: [10, 2, 3, 4]\n"
   ]
  },
  {
   "cell_type": "code",
   "execution_count": null,
   "id": "52dc4b6f-a054-44da-8b2b-4937c3835376",
   "metadata": {},
   "outputs": [],
   "source": [
    "2. Immutable Data Types:\n",
    "Immutable data types are those whose values cannot be altered once they are created. \n",
    "If you want to change an immutable object, you must create a new object with the desired value. \n",
    "Common immutable data types include strings, tuples, and numbers in Python.\n"
   ]
  },
  {
   "cell_type": "code",
   "execution_count": null,
   "id": "8dc098c5-22aa-412f-b665-4e623e6a980e",
   "metadata": {},
   "outputs": [],
   "source": [
    "my_string = \"Hello\"\n",
    "my_string += \" World\"  # Creates a new string with the combined value.\n",
    "print(my_string)  # Output: \"Hello World\"\n",
    "\n",
    "my_string[0] = 'J'  # This will raise a TypeError because strings are immutable.\n",
    "```"
   ]
  }
 ],
 "metadata": {
  "kernelspec": {
   "display_name": "Python 3 (ipykernel)",
   "language": "python",
   "name": "python3"
  },
  "language_info": {
   "codemirror_mode": {
    "name": "ipython",
    "version": 3
   },
   "file_extension": ".py",
   "mimetype": "text/x-python",
   "name": "python",
   "nbconvert_exporter": "python",
   "pygments_lexer": "ipython3",
   "version": "3.10.8"
  }
 },
 "nbformat": 4,
 "nbformat_minor": 5
}
