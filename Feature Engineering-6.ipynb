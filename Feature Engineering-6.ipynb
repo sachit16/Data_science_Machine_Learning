{
 "cells": [
  {
   "cell_type": "code",
   "execution_count": null,
   "id": "b52df40c-2685-488c-a5b9-aa0905d65f1e",
   "metadata": {},
   "outputs": [],
   "source": [
    "Q1. Pearson correlation coefficient is a measure of the linear relationship between two variables. Suppose\n",
    "you have collected data on the amount of time students spend studying for an exam and their final exam\n",
    "scores. Calculate the Pearson correlation coefficient between these two variables and interpret the result.\n",
    "\n",
    "\n",
    "\n",
    "\n",
    "\n",
    "Q1. **Pearson Correlation Coefficient for Study Time and Exam Scores:**\n",
    "\n",
    "Assuming you have two arrays of data, `study_time` and `exam_scores`, you can calculate the Pearson correlation coefficient using the `numpy` library in Python:\n",
    "\n",
    "\n",
    "import pandas as pd\n",
    "df=np.DataFrame{\n",
    "'study_time '= [5, 10, 15, 8, 7, 12, 6, 9]\n",
    "'exam_scores' = [70, 85, 90, 78, 75, 88, 68, 82]\n",
    "}\n",
    "\n",
    "df.corr(method='pearson')\n",
    "\n",
    "\n",
    "\n",
    "**Interpretation:**\n",
    "A positive Pearson correlation coefficient indicates a positive linear relationship between the two variables. If the Pearson correlation is close to 1, it suggests a strong positive correlation, meaning that as students spend more time studying, their exam scores tend to be higher. Conversely, if the correlation is negative (close to -1), it would indicate that higher study time is associated with lower exam scores.\n"
   ]
  },
  {
   "cell_type": "code",
   "execution_count": 5,
   "id": "aa54071b-aab2-4e7c-a235-fb1158f4cd85",
   "metadata": {},
   "outputs": [
    {
     "data": {
      "text/html": [
       "<div>\n",
       "<style scoped>\n",
       "    .dataframe tbody tr th:only-of-type {\n",
       "        vertical-align: middle;\n",
       "    }\n",
       "\n",
       "    .dataframe tbody tr th {\n",
       "        vertical-align: top;\n",
       "    }\n",
       "\n",
       "    .dataframe thead th {\n",
       "        text-align: right;\n",
       "    }\n",
       "</style>\n",
       "<table border=\"1\" class=\"dataframe\">\n",
       "  <thead>\n",
       "    <tr style=\"text-align: right;\">\n",
       "      <th></th>\n",
       "      <th>study_time</th>\n",
       "      <th>exam_scores</th>\n",
       "    </tr>\n",
       "  </thead>\n",
       "  <tbody>\n",
       "    <tr>\n",
       "      <th>study_time</th>\n",
       "      <td>1.000000</td>\n",
       "      <td>0.942557</td>\n",
       "    </tr>\n",
       "    <tr>\n",
       "      <th>exam_scores</th>\n",
       "      <td>0.942557</td>\n",
       "      <td>1.000000</td>\n",
       "    </tr>\n",
       "  </tbody>\n",
       "</table>\n",
       "</div>"
      ],
      "text/plain": [
       "             study_time   exam_scores\n",
       "study_time      1.000000     0.942557\n",
       "exam_scores     0.942557     1.000000"
      ]
     },
     "execution_count": 5,
     "metadata": {},
     "output_type": "execute_result"
    }
   ],
   "source": [
    "\n",
    "import pandas as pd\n",
    "df=pd.DataFrame({\n",
    "'study_time ': [5, 10, 15, 8, 7, 12, 6, 9],\n",
    "'exam_scores' : [70, 85, 90, 78, 75, 88, 68, 82]\n",
    "})\n",
    "\n",
    "df.corr(method='pearson')"
   ]
  },
  {
   "cell_type": "code",
   "execution_count": null,
   "id": "cb102a9b-43a6-4e8e-bcc0-03dfeb533f48",
   "metadata": {},
   "outputs": [],
   "source": [
    "Q2. Spearman's rank correlation is a measure of the monotonic relationship between two variables.\n",
    "Suppose you have collected data on the amount of sleep individuals get each night and their overall job\n",
    "satisfaction level on a scale of 1 to 10. Calculate the Spearman's rank correlation between these two\n",
    "variables and interpret the result.\n",
    "\n",
    "\n",
    "\n",
    "\n",
    "\n",
    "\n",
    "Assuming you have two arrays of data, `sleep_hours` and `job_satisfaction`, you can calculate the Spearman's rank correlation using the `scipy` library in Python:\n",
    "\n",
    "code:-\n",
    "import pandas as pd\n",
    "df=pd.DataFrame({\n",
    "'sleep_hours' = [7, 6, 8, 5, 6, 7, 9, 5, 4, 8],\n",
    "'job_satisfaction' = [8, 6, 9, 5, 7, 8, 9, 4, 3, 7]})\n",
    "\n",
    "df.corr(method='spearman')\n",
    "\n",
    "**Interpretation:**\n",
    "Spearman's rank correlation ranges between -1 and 1, similar to Pearson correlation. A positive Spearman's rank correlation indicates a monotonic positive relationship, where higher sleep hours tend to be associated with higher job satisfaction levels. Conversely, a negative Spearman's rank correlation indicates a monotonic negative relationship, where higher sleep hours are associated with lower job satisfaction levels.\n",
    "\n",
    "If the Spearman's rank correlation is close to 1 or -1, it suggests a strong monotonic relationship. If it's close to 0, there's little to no monotonic relationship between the two variables. The interpretation focuses on the order of the ranks of the data points, rather than the exact linear relationship."
   ]
  },
  {
   "cell_type": "code",
   "execution_count": 7,
   "id": "0863cd51-bd77-4312-bd8c-b3dd0bee4161",
   "metadata": {},
   "outputs": [
    {
     "data": {
      "text/html": [
       "<div>\n",
       "<style scoped>\n",
       "    .dataframe tbody tr th:only-of-type {\n",
       "        vertical-align: middle;\n",
       "    }\n",
       "\n",
       "    .dataframe tbody tr th {\n",
       "        vertical-align: top;\n",
       "    }\n",
       "\n",
       "    .dataframe thead th {\n",
       "        text-align: right;\n",
       "    }\n",
       "</style>\n",
       "<table border=\"1\" class=\"dataframe\">\n",
       "  <thead>\n",
       "    <tr style=\"text-align: right;\">\n",
       "      <th></th>\n",
       "      <th>sleep_hours</th>\n",
       "      <th>job_satisfaction</th>\n",
       "    </tr>\n",
       "  </thead>\n",
       "  <tbody>\n",
       "    <tr>\n",
       "      <th>sleep_hours</th>\n",
       "      <td>1.000000</td>\n",
       "      <td>0.913317</td>\n",
       "    </tr>\n",
       "    <tr>\n",
       "      <th>job_satisfaction</th>\n",
       "      <td>0.913317</td>\n",
       "      <td>1.000000</td>\n",
       "    </tr>\n",
       "  </tbody>\n",
       "</table>\n",
       "</div>"
      ],
      "text/plain": [
       "                  sleep_hours  job_satisfaction\n",
       "sleep_hours          1.000000          0.913317\n",
       "job_satisfaction     0.913317          1.000000"
      ]
     },
     "execution_count": 7,
     "metadata": {},
     "output_type": "execute_result"
    }
   ],
   "source": [
    "import pandas as pd\n",
    "df=pd.DataFrame({\n",
    "'sleep_hours' :[7, 6, 8, 5, 6, 7, 9, 5, 4, 8],\n",
    "'job_satisfaction' : [8, 6, 9, 5, 7, 8, 9, 4, 3, 7]})\n",
    "\n",
    "df.corr(method='spearman')\n"
   ]
  },
  {
   "cell_type": "code",
   "execution_count": null,
   "id": "46d13be4-9bae-4725-ac87-d86d92e00284",
   "metadata": {},
   "outputs": [],
   "source": [
    "Q3. Suppose you are conducting a study to examine the relationship between the number of hours of\n",
    "exercise per week and body mass index (BMI) in a sample of adults. You collected data on both variables\n",
    "for 50 participants. Calculate the Pearson correlation coefficient and the Spearman's rank correlation\n",
    "between these two variables and compare the results.\n",
    "\n",
    "\n",
    "\n",
    "\n",
    "Assuming you have two arrays of data, `exercise_hours` and `bmi`, you can calculate both the Pearson correlation coefficient and the Spearman's rank correlation using Python:\n",
    "\n",
    "import pandas as pd\n",
    "df=pd.DataFrame({\n",
    "'exercise_hours' : [4, 6, 3, 5, 7, 2, 5, 3, 4, 6, 7, 2, 4, 5, 3, 6, 7, 1, 4, 5,\n",
    "                  3, 6, 7, 2, 4, 5, 3, 6, 7, 2, 4, 5, 3, 6, 7, 2, 4, 5, 3, 6,\n",
    "                  7, 2, 4, 5, 3, 6, 7, 2, 4, 5],\n",
    "'bmi' : [23.5, 25.1, 21.8, 24.3, 26.7, 22.0, 24.9, 21.5, 23.0, 25.8, 27.3, 20.2,\n",
    "       22.4, 23.9, 21.0, 26.1, 28.2, 19.7, 22.1, 24.0, 20.8, 25.5, 28.1, 19.0,\n",
    "       22.6, 24.5, 21.3, 26.0, 28.5, 18.5, 22.8, 24.7, 21.7, 26.5, 28.9, 18.9,\n",
    "       23.2, 25.0, 21.9, 26.8, 29.0, 18.7, 23.4, 25.2, 21.6, 26.3, 29.3, 18.3,\n",
    "       23.6, 25.4]\n",
    "})\n",
    "# Calculate Pearson correlation coefficient\n",
    "df.corr(method='pearson')\n",
    "\n",
    "# Calculate Spearman's rank correlation\n",
    "df.corr(method='spearman')\n",
    "\n",
    "**Comparison:**\n",
    "The Pearson correlation coefficient measures the linear relationship between variables, while Spearman's rank correlation assesses the monotonic relationship (direction of change). Both coefficients will provide insights into the relationship between exercise hours and BMI. If the Pearson correlation is close to 1 or -1, it suggests a strong linear relationship, and if the Spearman's correlation is close to 1 or -1, it suggests a strong monotonic relationship. The interpretation should take into account the nature of the data and the context of the study.\n",
    "\n",
    "\n"
   ]
  },
  {
   "cell_type": "code",
   "execution_count": 9,
   "id": "df18d2ee-1cb6-4733-b614-9b6cdb4d47d2",
   "metadata": {},
   "outputs": [
    {
     "data": {
      "text/html": [
       "<div>\n",
       "<style scoped>\n",
       "    .dataframe tbody tr th:only-of-type {\n",
       "        vertical-align: middle;\n",
       "    }\n",
       "\n",
       "    .dataframe tbody tr th {\n",
       "        vertical-align: top;\n",
       "    }\n",
       "\n",
       "    .dataframe thead th {\n",
       "        text-align: right;\n",
       "    }\n",
       "</style>\n",
       "<table border=\"1\" class=\"dataframe\">\n",
       "  <thead>\n",
       "    <tr style=\"text-align: right;\">\n",
       "      <th></th>\n",
       "      <th>exercise_hours</th>\n",
       "      <th>bmi</th>\n",
       "    </tr>\n",
       "  </thead>\n",
       "  <tbody>\n",
       "    <tr>\n",
       "      <th>exercise_hours</th>\n",
       "      <td>1.000000</td>\n",
       "      <td>0.966788</td>\n",
       "    </tr>\n",
       "    <tr>\n",
       "      <th>bmi</th>\n",
       "      <td>0.966788</td>\n",
       "      <td>1.000000</td>\n",
       "    </tr>\n",
       "  </tbody>\n",
       "</table>\n",
       "</div>"
      ],
      "text/plain": [
       "                exercise_hours       bmi\n",
       "exercise_hours        1.000000  0.966788\n",
       "bmi                   0.966788  1.000000"
      ]
     },
     "execution_count": 9,
     "metadata": {},
     "output_type": "execute_result"
    }
   ],
   "source": [
    "import pandas as pd\n",
    "df=pd.DataFrame({\n",
    "'exercise_hours' : [4, 6, 3, 5, 7, 2, 5, 3, 4, 6, 7, 2, 4, 5, 3, 6, 7, 1, 4, 5,\n",
    "                  3, 6, 7, 2, 4, 5, 3, 6, 7, 2, 4, 5, 3, 6, 7, 2, 4, 5, 3, 6,\n",
    "                  7, 2, 4, 5, 3, 6, 7, 2, 4, 5],\n",
    "'bmi' : [23.5, 25.1, 21.8, 24.3, 26.7, 22.0, 24.9, 21.5, 23.0, 25.8, 27.3, 20.2,\n",
    "       22.4, 23.9, 21.0, 26.1, 28.2, 19.7, 22.1, 24.0, 20.8, 25.5, 28.1, 19.0,\n",
    "       22.6, 24.5, 21.3, 26.0, 28.5, 18.5, 22.8, 24.7, 21.7, 26.5, 28.9, 18.9,\n",
    "       23.2, 25.0, 21.9, 26.8, 29.0, 18.7, 23.4, 25.2, 21.6, 26.3, 29.3, 18.3,\n",
    "       23.6, 25.4]\n",
    "})\n",
    "# Calculate Pearson correlation coefficient\n",
    "df.corr(method='pearson')\n",
    "\n"
   ]
  },
  {
   "cell_type": "code",
   "execution_count": 10,
   "id": "97ecb3d1-271f-4f4d-bf4c-d80115031ede",
   "metadata": {},
   "outputs": [
    {
     "data": {
      "text/html": [
       "<div>\n",
       "<style scoped>\n",
       "    .dataframe tbody tr th:only-of-type {\n",
       "        vertical-align: middle;\n",
       "    }\n",
       "\n",
       "    .dataframe tbody tr th {\n",
       "        vertical-align: top;\n",
       "    }\n",
       "\n",
       "    .dataframe thead th {\n",
       "        text-align: right;\n",
       "    }\n",
       "</style>\n",
       "<table border=\"1\" class=\"dataframe\">\n",
       "  <thead>\n",
       "    <tr style=\"text-align: right;\">\n",
       "      <th></th>\n",
       "      <th>exercise_hours</th>\n",
       "      <th>bmi</th>\n",
       "    </tr>\n",
       "  </thead>\n",
       "  <tbody>\n",
       "    <tr>\n",
       "      <th>exercise_hours</th>\n",
       "      <td>1.000000</td>\n",
       "      <td>0.976536</td>\n",
       "    </tr>\n",
       "    <tr>\n",
       "      <th>bmi</th>\n",
       "      <td>0.976536</td>\n",
       "      <td>1.000000</td>\n",
       "    </tr>\n",
       "  </tbody>\n",
       "</table>\n",
       "</div>"
      ],
      "text/plain": [
       "                exercise_hours       bmi\n",
       "exercise_hours        1.000000  0.976536\n",
       "bmi                   0.976536  1.000000"
      ]
     },
     "execution_count": 10,
     "metadata": {},
     "output_type": "execute_result"
    }
   ],
   "source": [
    "# Calculate Spearman's rank correlation\n",
    "df.corr(method='spearman')"
   ]
  },
  {
   "cell_type": "code",
   "execution_count": null,
   "id": "3b1c939b-1647-47d2-84bb-0bf489142f4a",
   "metadata": {},
   "outputs": [],
   "source": [
    "Q4. A researcher is interested in examining the relationship between the number of hours individuals\n",
    "spend watching television per day and their level of physical activity. The researcher collected data on\n",
    "both variables from a sample of 50 participants. Calculate the Pearson correlation coefficient between\n",
    "these two variables."
   ]
  },
  {
   "cell_type": "code",
   "execution_count": null,
   "id": "a4c79064-bf54-4077-8b08-8d294fbd2ced",
   "metadata": {},
   "outputs": [],
   "source": [
    "\n",
    "Assuming you have two arrays of data, `tv_hours` and `physical_activity`, you can calculate the Pearson correlation coefficient using Python:\n",
    "\n",
    "\n",
    "import pandas as pd\n",
    "from scipy.stats import pearsonr\n",
    "df=pd.DataFrame({\n",
    "'tv_hours' : [2, 3, 5, 4, 6, 1, 2, 3, 5, 4, 6, 1, 2, 3, 5, 4, 6, 1, 2, 3,\n",
    "            5, 4, 6, 1, 2, 3, 5, 4, 6, 1, 2, 3, 5, 4, 6, 1, 2, 3, 5, 4,\n",
    "            6, 1, 2, 3, 5, 4, 6, 1, 2, 3],\n",
    "'physical_activity' : [3, 2, 1, 2, 1, 4, 3, 2, 1, 2, 1, 4, 3, 2, 1, 2, 1,\n",
    "                     4, 3, 2, 1, 2, 1, 4, 3, 2, 1, 2, 1, 4, 3, 2, 1, 2,\n",
    "                     1, 4, 3, 2, 1, 2, 1, 4, 3, 2, 1, 2, 1, 4, 3, 2]\n",
    "})\n",
    "# Calculate Pearson correlation coefficient\n",
    "df.corr(method='pearson')\n",
    "\n",
    "**Interpretation:**\n",
    "The Pearson correlation coefficient will indicate the strength and direction of the linear relationship between the number of hours individuals spend watching television and their level of physical activity. If the correlation is close to 1, it suggests that as TV watching hours increase, physical activity tends to decrease, and if the correlation is close to -1, it suggests the opposite relationship. A correlation close to 0 indicates little to no linear relationship."
   ]
  },
  {
   "cell_type": "code",
   "execution_count": 11,
   "id": "42f3bc70-138f-4acc-997b-ad4ee6520bd6",
   "metadata": {},
   "outputs": [
    {
     "data": {
      "text/html": [
       "<div>\n",
       "<style scoped>\n",
       "    .dataframe tbody tr th:only-of-type {\n",
       "        vertical-align: middle;\n",
       "    }\n",
       "\n",
       "    .dataframe tbody tr th {\n",
       "        vertical-align: top;\n",
       "    }\n",
       "\n",
       "    .dataframe thead th {\n",
       "        text-align: right;\n",
       "    }\n",
       "</style>\n",
       "<table border=\"1\" class=\"dataframe\">\n",
       "  <thead>\n",
       "    <tr style=\"text-align: right;\">\n",
       "      <th></th>\n",
       "      <th>tv_hours</th>\n",
       "      <th>physical_activity</th>\n",
       "    </tr>\n",
       "  </thead>\n",
       "  <tbody>\n",
       "    <tr>\n",
       "      <th>tv_hours</th>\n",
       "      <td>1.000000</td>\n",
       "      <td>-0.958676</td>\n",
       "    </tr>\n",
       "    <tr>\n",
       "      <th>physical_activity</th>\n",
       "      <td>-0.958676</td>\n",
       "      <td>1.000000</td>\n",
       "    </tr>\n",
       "  </tbody>\n",
       "</table>\n",
       "</div>"
      ],
      "text/plain": [
       "                   tv_hours  physical_activity\n",
       "tv_hours           1.000000          -0.958676\n",
       "physical_activity -0.958676           1.000000"
      ]
     },
     "execution_count": 11,
     "metadata": {},
     "output_type": "execute_result"
    }
   ],
   "source": [
    "import pandas as pd\n",
    "from scipy.stats import pearsonr\n",
    "df=pd.DataFrame({\n",
    "'tv_hours' : [2, 3, 5, 4, 6, 1, 2, 3, 5, 4, 6, 1, 2, 3, 5, 4, 6, 1, 2, 3,\n",
    "            5, 4, 6, 1, 2, 3, 5, 4, 6, 1, 2, 3, 5, 4, 6, 1, 2, 3, 5, 4,\n",
    "            6, 1, 2, 3, 5, 4, 6, 1, 2, 3],\n",
    "'physical_activity' : [3, 2, 1, 2, 1, 4, 3, 2, 1, 2, 1, 4, 3, 2, 1, 2, 1,\n",
    "                     4, 3, 2, 1, 2, 1, 4, 3, 2, 1, 2, 1, 4, 3, 2, 1, 2,\n",
    "                     1, 4, 3, 2, 1, 2, 1, 4, 3, 2, 1, 2, 1, 4, 3, 2]\n",
    "})\n",
    "# Calculate Pearson correlation coefficient\n",
    "df.corr(method='pearson')\n"
   ]
  },
  {
   "cell_type": "code",
   "execution_count": null,
   "id": "ec631588-d73f-4f0a-872e-34333f04e775",
   "metadata": {},
   "outputs": [],
   "source": [
    "Q5. A survey was conducted to examine the relationship between age and preference for a particular\n",
    "brand of soft drink. The survey results are shown below:"
   ]
  },
  {
   "cell_type": "code",
   "execution_count": null,
   "id": "88439e02-a9a9-4036-ae5b-5516ac54f698",
   "metadata": {},
   "outputs": [],
   "source": [
    "First, you need to encode the soft drink preferences into numerical values. Let's say you assign \"Coke\" as 1, \"Pepsi\" as 2, and \"Mountain Dew\" as 3.\n",
    "\n",
    "python\n"
   ]
  },
  {
   "cell_type": "code",
   "execution_count": 30,
   "id": "74607521-aceb-49e5-b086-3dc357d61ab4",
   "metadata": {},
   "outputs": [
    {
     "name": "stderr",
     "output_type": "stream",
     "text": [
      "/opt/conda/lib/python3.10/site-packages/sklearn/preprocessing/_label.py:116: DataConversionWarning: A column-vector y was passed when a 1d array was expected. Please change the shape of y to (n_samples, ), for example using ravel().\n",
      "  y = column_or_1d(y, warn=True)\n"
     ]
    },
    {
     "data": {
      "text/html": [
       "<div>\n",
       "<style scoped>\n",
       "    .dataframe tbody tr th:only-of-type {\n",
       "        vertical-align: middle;\n",
       "    }\n",
       "\n",
       "    .dataframe tbody tr th {\n",
       "        vertical-align: top;\n",
       "    }\n",
       "\n",
       "    .dataframe thead th {\n",
       "        text-align: right;\n",
       "    }\n",
       "</style>\n",
       "<table border=\"1\" class=\"dataframe\">\n",
       "  <thead>\n",
       "    <tr style=\"text-align: right;\">\n",
       "      <th></th>\n",
       "      <th>Age</th>\n",
       "      <th>0</th>\n",
       "    </tr>\n",
       "  </thead>\n",
       "  <tbody>\n",
       "    <tr>\n",
       "      <th>Age</th>\n",
       "      <td>1.000000</td>\n",
       "      <td>0.769175</td>\n",
       "    </tr>\n",
       "    <tr>\n",
       "      <th>0</th>\n",
       "      <td>0.769175</td>\n",
       "      <td>1.000000</td>\n",
       "    </tr>\n",
       "  </tbody>\n",
       "</table>\n",
       "</div>"
      ],
      "text/plain": [
       "          Age         0\n",
       "Age  1.000000  0.769175\n",
       "0    0.769175  1.000000"
      ]
     },
     "execution_count": 30,
     "metadata": {},
     "output_type": "execute_result"
    }
   ],
   "source": [
    "import pandas as pd\n",
    "import numpy as np\n",
    "# Create a DataFrame from the provided data\n",
    "data = {\n",
    "    'Age': [25, 42, 37, 19, 31, 28],\n",
    "    'SoftDrinkPreference': ['Coke', 'Pepsi', 'Mountain Dew', 'Coke', 'Pepsi', 'Coke']\n",
    "}\n",
    "\n",
    "df = pd.DataFrame(data)\n",
    "from sklearn.preprocessing import LabelEncoder\n",
    "encoder=LabelEncoder()\n",
    "dff=pd.Series(encoder.fit_transform(df[['SoftDrinkPreference']]))\n",
    "dfd=pd.concat([df['Age'],dff],axis=1)\n",
    "# Create a cross-tabulation\n",
    "#cross_tab = pd.crosstab(df['Age'], df['SoftDrinkPreference'])\n",
    "dfd.corr()"
   ]
  },
  {
   "cell_type": "code",
   "execution_count": 33,
   "id": "1a3e3c3c-ef63-4a51-bef1-45fe4e92617b",
   "metadata": {},
   "outputs": [
    {
     "data": {
      "text/html": [
       "<div>\n",
       "<style scoped>\n",
       "    .dataframe tbody tr th:only-of-type {\n",
       "        vertical-align: middle;\n",
       "    }\n",
       "\n",
       "    .dataframe tbody tr th {\n",
       "        vertical-align: top;\n",
       "    }\n",
       "\n",
       "    .dataframe thead th {\n",
       "        text-align: right;\n",
       "    }\n",
       "</style>\n",
       "<table border=\"1\" class=\"dataframe\">\n",
       "  <thead>\n",
       "    <tr style=\"text-align: right;\">\n",
       "      <th></th>\n",
       "      <th>Age</th>\n",
       "      <th>Preference</th>\n",
       "    </tr>\n",
       "  </thead>\n",
       "  <tbody>\n",
       "    <tr>\n",
       "      <th>Age</th>\n",
       "      <td>1.000000</td>\n",
       "      <td>0.758704</td>\n",
       "    </tr>\n",
       "    <tr>\n",
       "      <th>Preference</th>\n",
       "      <td>0.758704</td>\n",
       "      <td>1.000000</td>\n",
       "    </tr>\n",
       "  </tbody>\n",
       "</table>\n",
       "</div>"
      ],
      "text/plain": [
       "                 Age  Preference\n",
       "Age         1.000000    0.758704\n",
       "Preference  0.758704    1.000000"
      ]
     },
     "execution_count": 33,
     "metadata": {},
     "output_type": "execute_result"
    }
   ],
   "source": []
  },
  {
   "cell_type": "code",
   "execution_count": null,
   "id": "31673efa-c89e-478c-8a65-9fd05853b79e",
   "metadata": {},
   "outputs": [],
   "source": [
    "Q6. A company is interested in examining the relationship between the number of sales calls made per day\n",
    "and the number of sales made per week. The company collected data on both variables from a sample of\n",
    "30 sales representatives. Calculate the Pearson correlation coefficient between these two variables."
   ]
  },
  {
   "cell_type": "code",
   "execution_count": 34,
   "id": "a63cab44-605d-4674-882a-1cb6f2f5b596",
   "metadata": {},
   "outputs": [
    {
     "data": {
      "text/html": [
       "<div>\n",
       "<style scoped>\n",
       "    .dataframe tbody tr th:only-of-type {\n",
       "        vertical-align: middle;\n",
       "    }\n",
       "\n",
       "    .dataframe tbody tr th {\n",
       "        vertical-align: top;\n",
       "    }\n",
       "\n",
       "    .dataframe thead th {\n",
       "        text-align: right;\n",
       "    }\n",
       "</style>\n",
       "<table border=\"1\" class=\"dataframe\">\n",
       "  <thead>\n",
       "    <tr style=\"text-align: right;\">\n",
       "      <th></th>\n",
       "      <th>Sales Calls per Day</th>\n",
       "      <th>Sales per Week</th>\n",
       "    </tr>\n",
       "  </thead>\n",
       "  <tbody>\n",
       "    <tr>\n",
       "      <th>Sales Calls per Day</th>\n",
       "      <td>1.000000</td>\n",
       "      <td>0.980378</td>\n",
       "    </tr>\n",
       "    <tr>\n",
       "      <th>Sales per Week</th>\n",
       "      <td>0.980378</td>\n",
       "      <td>1.000000</td>\n",
       "    </tr>\n",
       "  </tbody>\n",
       "</table>\n",
       "</div>"
      ],
      "text/plain": [
       "                     Sales Calls per Day  Sales per Week\n",
       "Sales Calls per Day             1.000000        0.980378\n",
       "Sales per Week                  0.980378        1.000000"
      ]
     },
     "execution_count": 34,
     "metadata": {},
     "output_type": "execute_result"
    }
   ],
   "source": [
    "import pandas as pd\n",
    "\n",
    "# Sample data\n",
    "data = {\n",
    "    'Sales Calls per Day': [10, 15, 12, 8, 9, 11, 14, 13, 17, 16, 10, 12, 9, 14, 15, 11, 13, 18, 16, 20, 19,\n",
    "                             11, 14, 13, 17, 16, 12, 15, 18, 14, 11],\n",
    "    'Sales per Week': [5, 8, 6, 3, 4, 5, 7, 6, 9, 8, 4, 6, 4, 7, 8, 5, 6, 9, 8, 11, 10,\n",
    "                        5, 7, 6, 8, 7, 6, 8, 9, 7, 5]\n",
    "}\n",
    "\n",
    "df = pd.DataFrame(data)\n",
    "\n",
    "# Calculate Pearson correlation coefficient\n",
    "df.corr(method='pearson')\n"
   ]
  },
  {
   "cell_type": "code",
   "execution_count": null,
   "id": "763db692-6423-4e7e-b423-45529e30717f",
   "metadata": {},
   "outputs": [],
   "source": []
  }
 ],
 "metadata": {
  "kernelspec": {
   "display_name": "Python 3 (ipykernel)",
   "language": "python",
   "name": "python3"
  },
  "language_info": {
   "codemirror_mode": {
    "name": "ipython",
    "version": 3
   },
   "file_extension": ".py",
   "mimetype": "text/x-python",
   "name": "python",
   "nbconvert_exporter": "python",
   "pygments_lexer": "ipython3",
   "version": "3.10.8"
  }
 },
 "nbformat": 4,
 "nbformat_minor": 5
}
