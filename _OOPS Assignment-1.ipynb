{
 "cells": [
  {
   "cell_type": "markdown",
   "id": "97e02572-0dba-4779-b712-2237d2bd4ee4",
   "metadata": {},
   "source": [
    "Q1. Explain Class and Object with respect to Object-Oriented Programming. Give a suitable example."
   ]
  },
  {
   "cell_type": "code",
   "execution_count": null,
   "id": "0760d9e6-f23f-43c9-892e-b132dfefad07",
   "metadata": {},
   "outputs": [],
   "source": [
    "\n",
    "In object-oriented programming (OOP), a class is a blueprint for creating objects.\n",
    "It defines a set of attributes (data members) and methods (functions) that will be \n",
    "common to all objects of that class. An object, on the other hand, is an instance of a class.\n",
    "It is a concrete entity created based on the class and represents a real-world entity."
   ]
  },
  {
   "cell_type": "code",
   "execution_count": 1,
   "id": "007defb9-c268-4dc9-a2f5-cc2f95ce8e71",
   "metadata": {},
   "outputs": [],
   "source": [
    "# Define a class named 'Car'\n",
    "class Car:\n",
    "    # Class attribute(Static variable of the class )\n",
    "    car_count = 0\n",
    "    \n",
    "    # Constructor or initializer method\n",
    "    def __init__(self, brand, model):\n",
    "        # Instance attributes\n",
    "        self.brand = brand\n",
    "        self.model = model\n",
    "        Car.car_count += 1\n",
    "    \n",
    "    # Method to display car details\n",
    "    def display_details(self):\n",
    "        print(f\"Brand: {self.brand}, Model: {self.model}\")"
   ]
  },
  {
   "cell_type": "code",
   "execution_count": 2,
   "id": "368eb8e1-4657-410e-80ea-2dd754f50b17",
   "metadata": {},
   "outputs": [],
   "source": [
    "# Creating objects of the 'Car' class\n",
    "car1 = Car(\"Toyota\", \"Corolla\")\n",
    "car2 = Car(\"Honda\", \"Civic\")"
   ]
  },
  {
   "cell_type": "code",
   "execution_count": 3,
   "id": "9f0ffd01-1ca7-4097-8ea4-c16bf3472739",
   "metadata": {},
   "outputs": [
    {
     "name": "stdout",
     "output_type": "stream",
     "text": [
      "Brand: Toyota, Model: Corolla\n",
      "Brand: Honda, Model: Civic\n"
     ]
    }
   ],
   "source": [
    "\n",
    "# Accessing object attributes and methods\n",
    "car1.display_details()  # Output: Brand: Toyota, Model: Corolla\n",
    "car2.display_details()  # Output: Brand: Honda, Model: Civic\n"
   ]
  },
  {
   "cell_type": "code",
   "execution_count": 4,
   "id": "1edaac43-c1d6-4039-9edd-c122b9e455d8",
   "metadata": {},
   "outputs": [
    {
     "name": "stdout",
     "output_type": "stream",
     "text": [
      "Total cars created: 2\n"
     ]
    }
   ],
   "source": [
    "# Accessing class attribute\n",
    "print(f\"Total cars created: {Car.car_count}\")  # Output: Total cars created: 2"
   ]
  },
  {
   "cell_type": "markdown",
   "id": "25e50b12-309f-4837-9070-747892c78abe",
   "metadata": {},
   "source": [
    "Q2. Name the four pillars of OOPs."
   ]
  },
  {
   "cell_type": "code",
   "execution_count": null,
   "id": "92a95c24-b687-484a-b063-c102a4cdec00",
   "metadata": {},
   "outputs": [],
   "source": [
    "The four pillars of object-oriented programming (OOP) in Python, as in other OOP languages, are:\n",
    "\n",
    "1.Encapsulation:\n",
    "   Encapsulation refers to the bundling of data (attributes) and methods (functions) that operate\n",
    "on the data into a single unit known as a class. It restricts direct access to some of an object's\n",
    "components and prevents the accidental modification of data. Encapsulation helps in data hiding and\n",
    "organizing the code into logical, self-contained units.\n",
    "\n",
    "2.Inheritance:\n",
    "   Inheritance is a mechanism where a new class inherits properties and behavior (attributes and methods)\n",
    "from an existing class. The new class is called a derived class or subclass, and the existing class is called\n",
    "a base class or superclass. Inheritance promotes code reusability and establishes a relationship between classes.\n",
    "\n",
    "3.Polymorphism:\n",
    "   Polymorphism allows objects of different classes to be treated as objects of a common superclass.\n",
    "It enables methods to do different things based on the object it is acting upon. Polymorphism provides a \n",
    "way to perform a single action in different ways. It simplifies code and improves readability and reusability.\n",
    "\n",
    "4. Abstraction:\n",
    "   Abstraction is the concept of hiding complex implementation details and showing only the necessary features of an object.\n",
    "In Python, abstraction is achieved through abstract classes and interfaces. It allows programmers to define the structure of \n",
    "an object without providing the implementation. Abstraction helps in reducing programming complexity and effort.\n",
    "\n",
    "These four pillars of OOP provide a robust and efficient way to design and organize code, making it more maintainable, scalable, and understandable."
   ]
  },
  {
   "cell_type": "markdown",
   "id": "c332b3e6-6f58-445f-ba02-127f46b48139",
   "metadata": {},
   "source": [
    "Q3. Explain why the __init__() function is used. Give a suitable example."
   ]
  },
  {
   "cell_type": "code",
   "execution_count": null,
   "id": "84b6d0b1-8061-42a0-b3ab-e10cbcc417fb",
   "metadata": {},
   "outputs": [],
   "source": [
    "\n",
    "In object-oriented programming, the __init__() method is a special method in Python classes. \n",
    "It is called the constructor method and is automatically executed when a new object of a class\n",
    "is instantiated. The primary purpose of the __init__() method is to initialize the attributes (variables) \n",
    "of the object. It allows you to set the initial state of the object by assigning values to its attributes."
   ]
  },
  {
   "cell_type": "code",
   "execution_count": 5,
   "id": "3e420a2d-abb9-456f-a79c-2125754bdfe9",
   "metadata": {},
   "outputs": [],
   "source": [
    "class Student:\n",
    "    def __init__(self, name, roll_number):\n",
    "        self.name = name\n",
    "        self.roll_number = roll_number\n",
    "        self.marks = 0  # Initializing marks to 0 for new students\n",
    "\n",
    "    def update_marks(self, marks):\n",
    "        self.marks = marks\n",
    "\n",
    "    def display_info(self):\n",
    "        print(\"Name:\", self.name)\n",
    "        print(\"Roll Number:\", self.roll_number)\n",
    "        print(\"Marks:\", self.marks)\n",
    "\n"
   ]
  },
  {
   "cell_type": "code",
   "execution_count": 6,
   "id": "0bd2b6af-c282-48eb-87c3-e3816f6ab124",
   "metadata": {},
   "outputs": [],
   "source": [
    "\n",
    "# Creating objects of the Student class\n",
    "student1 = Student(\"Alice\", 101)\n",
    "student2 = Student(\"Bob\", 102)\n"
   ]
  },
  {
   "cell_type": "code",
   "execution_count": 7,
   "id": "facd1e22-f35f-4fb1-abda-fef742e80259",
   "metadata": {},
   "outputs": [
    {
     "name": "stdout",
     "output_type": "stream",
     "text": [
      "Student 1:\n",
      "Name: Alice\n",
      "Roll Number: 101\n",
      "Marks: 0\n",
      "\n",
      "Student 2:\n",
      "Name: Bob\n",
      "Roll Number: 102\n",
      "Marks: 0\n"
     ]
    }
   ],
   "source": [
    "\n",
    "# Displaying initial information\n",
    "print(\"Student 1:\")\n",
    "student1.display_info()\n",
    "print(\"\\nStudent 2:\")\n",
    "student2.display_info()\n"
   ]
  },
  {
   "cell_type": "code",
   "execution_count": 8,
   "id": "b2808918-7829-4025-a00d-1896def4ad16",
   "metadata": {},
   "outputs": [],
   "source": [
    "\n",
    "# Updating marks for students\n",
    "student1.update_marks(85)\n",
    "student2.update_marks(92)\n"
   ]
  },
  {
   "cell_type": "code",
   "execution_count": 9,
   "id": "fe440109-3b61-42e9-90d0-1b482336707e",
   "metadata": {},
   "outputs": [
    {
     "name": "stdout",
     "output_type": "stream",
     "text": [
      "\n",
      "After updating marks:\n",
      "Student 1:\n",
      "Name: Alice\n",
      "Roll Number: 101\n",
      "Marks: 85\n",
      "\n",
      "Student 2:\n",
      "Name: Bob\n",
      "Roll Number: 102\n",
      "Marks: 92\n"
     ]
    }
   ],
   "source": [
    "\n",
    "# Displaying updated information\n",
    "print(\"\\nAfter updating marks:\")\n",
    "print(\"Student 1:\")\n",
    "student1.display_info()\n",
    "print(\"\\nStudent 2:\")\n",
    "student2.display_info()\n"
   ]
  },
  {
   "cell_type": "markdown",
   "id": "3ce00176-b32c-4218-9e0e-d312dddf8e87",
   "metadata": {},
   "source": [
    "Q4. Why self is used in OOPs?"
   ]
  },
  {
   "cell_type": "code",
   "execution_count": null,
   "id": "82462cd2-cb93-45a3-ac6b-31af1c0beedd",
   "metadata": {},
   "outputs": [],
   "source": [
    "In object-oriented programming (OOP), self is a convention in Python and some other object-oriented \n",
    "programming languages that represents the instance of a class.\n",
    "When you define a method within a class, the method automatically takes the instance as its\n",
    "first parameter, and by convention, this parameter is named self. The use of self is essential for several reasons:\n",
    "\n",
    "1)Instance Specificity: self refers to the specific instance of the class that is calling the method. \n",
    "It allows different instances of the same class to have their own attributes and state.\n",
    "\n",
    "2)Attribute Access: Using self, you can access and modify the attributes (variables) of the instance \n",
    "within class methods. For example, self.attribute_name refers to the attribute of the current instance.\n",
    "\n",
    "3)Method Invocation: When you call a method on an object, Python automatically passes the object as \n",
    "the first parameter (self) to the method. This allows methods to operate on the data (attributes) of the \n",
    "object it was called on.\n",
    "\n",
    "4)Namespace: self creates a namespace for instance variables. It distinguishes instance \n",
    "variables from local variables within methods. Without self, Python would consider the variable as\n",
    "local to the method, not an attribute of the instance."
   ]
  },
  {
   "cell_type": "code",
   "execution_count": 10,
   "id": "a43d2b12-94e3-4251-ba4c-caf74956aea0",
   "metadata": {},
   "outputs": [
    {
     "name": "stdout",
     "output_type": "stream",
     "text": [
      "42\n"
     ]
    }
   ],
   "source": [
    "class MyClass:\n",
    "    def __init__(self, value):\n",
    "        self.value = value  # 'self' allows storing 'value' as an instance variable\n",
    "    \n",
    "    def print_value(self):\n",
    "        print(self.value)  # 'self' allows accessing the instance variable 'value'\n",
    "\n",
    "# Creating an instance of MyClass\n",
    "obj = MyClass(42)\n",
    "\n",
    "# Calling the method using the instance\n",
    "obj.print_value()  # Output: 42\n"
   ]
  },
  {
   "cell_type": "markdown",
   "id": "f054059a-cbb6-4760-a48c-c0aee39c66fa",
   "metadata": {},
   "source": [
    "Q5. What is inheritance? Give an example for each type of inheritance."
   ]
  },
  {
   "cell_type": "code",
   "execution_count": null,
   "id": "7b112075-7873-4f9b-b16f-e1968bf540f3",
   "metadata": {},
   "outputs": [],
   "source": [
    "\n",
    "Inheritance in object-oriented programming (OOP) is a mechanism that \n",
    "allows one class (the child or subclass) to inherit the properties and behaviors \n",
    "(methods and attributes) of another class (the parent or superclass). Inheritance promotes \n",
    "code reusability and establishes a relationship between classes.\n",
    "\n",
    "there are several type of inheritance \n",
    "1)simple inheritance\n",
    "2)multiple inheritance\n",
    "3)multilevel inheritance\n",
    "4)herichical inheritance\n",
    "Following are example"
   ]
  },
  {
   "cell_type": "code",
   "execution_count": null,
   "id": "e152de72-b31b-4d84-8afb-e430cdb6a1a8",
   "metadata": {},
   "outputs": [],
   "source": [
    "2)Single Inheritance:\n",
    "Single inheritance occurs when a class inherits properties and \n",
    "methods from only one parent class"
   ]
  },
  {
   "cell_type": "code",
   "execution_count": 11,
   "id": "f1ece10c-ef87-46e1-b0dd-08822a5a0d0f",
   "metadata": {},
   "outputs": [
    {
     "name": "stdout",
     "output_type": "stream",
     "text": [
      "Animal speaks\n",
      "Dog barks\n"
     ]
    }
   ],
   "source": [
    "class Animal:\n",
    "    def speak(self):\n",
    "        print(\"Animal speaks\")\n",
    "\n",
    "class Dog(Animal):\n",
    "    def bark(self):\n",
    "        print(\"Dog barks\")\n",
    "\n",
    "\n",
    "dog = Dog()\n",
    "dog.speak()  \n",
    "dog.bark()   \n"
   ]
  },
  {
   "cell_type": "code",
   "execution_count": null,
   "id": "2796eee1-d883-4c20-862e-92ef59827ca2",
   "metadata": {},
   "outputs": [],
   "source": [
    "2)Multiple Inheritance:\n",
    "Multiple inheritance occurs when a class inherits properties and methods from more than \n",
    "one parent class."
   ]
  },
  {
   "cell_type": "code",
   "execution_count": 12,
   "id": "1873c83e-d939-4f2b-8c98-402858b2a71d",
   "metadata": {},
   "outputs": [
    {
     "name": "stdout",
     "output_type": "stream",
     "text": [
      "Method A\n",
      "Method B\n",
      "Method C\n"
     ]
    }
   ],
   "source": [
    "class A:\n",
    "    def method_A(self):\n",
    "        print(\"Method A\")\n",
    "\n",
    "class B:\n",
    "    def method_B(self):\n",
    "        print(\"Method B\")\n",
    "\n",
    "class C(A, B):\n",
    "    def method_C(self):\n",
    "        print(\"Method C\")\n",
    "\n",
    "\n",
    "obj = C()\n",
    "obj.method_A() \n",
    "obj.method_B()  \n",
    "obj.method_C()  \n"
   ]
  },
  {
   "cell_type": "code",
   "execution_count": 13,
   "id": "28b1efe6-795c-4780-9466-f9f713ffe37e",
   "metadata": {},
   "outputs": [
    {
     "ename": "SyntaxError",
     "evalue": "unmatched ')' (2613817391.py, line 1)",
     "output_type": "error",
     "traceback": [
      "\u001b[0;36m  Cell \u001b[0;32mIn[13], line 1\u001b[0;36m\u001b[0m\n\u001b[0;31m    3)\u001b[0m\n\u001b[0m     ^\u001b[0m\n\u001b[0;31mSyntaxError\u001b[0m\u001b[0;31m:\u001b[0m unmatched ')'\n"
     ]
    }
   ],
   "source": [
    "3)Multilevel Inheritance:\n",
    "Multilevel inheritance occurs when a class inherits from a superclass, and then another class inherits from this subclass."
   ]
  },
  {
   "cell_type": "code",
   "execution_count": 14,
   "id": "fbd26104-f036-4e74-9353-16d529e4512d",
   "metadata": {},
   "outputs": [
    {
     "name": "stdout",
     "output_type": "stream",
     "text": [
      "Method A\n",
      "Method B\n",
      "Method C\n"
     ]
    }
   ],
   "source": [
    "class A:\n",
    "    def method_A(self):\n",
    "        print(\"Method A\")\n",
    "\n",
    "class B(A):\n",
    "    def method_B(self):\n",
    "        print(\"Method B\")\n",
    "\n",
    "class C(B):\n",
    "    def method_C(self):\n",
    "        print(\"Method C\")\n",
    "\n",
    "\n",
    "obj = C()\n",
    "obj.method_A()  \n",
    "obj.method_B()  \n",
    "obj.method_C()\n"
   ]
  },
  {
   "cell_type": "code",
   "execution_count": null,
   "id": "b2709d5e-0f16-42c2-a46d-4985d2ce0684",
   "metadata": {},
   "outputs": [],
   "source": [
    "4)Hierarchical Inheritance:\n",
    "Hierarchical inheritance occurs when multiple classes inherit from a single parent class."
   ]
  },
  {
   "cell_type": "code",
   "execution_count": 15,
   "id": "fe1b6a46-16cb-41d7-8d1e-1f93e7a12767",
   "metadata": {},
   "outputs": [
    {
     "name": "stdout",
     "output_type": "stream",
     "text": [
      "Animal speaks\n",
      "Dog barks\n",
      "Animal speaks\n",
      "Cat meows\n"
     ]
    }
   ],
   "source": [
    "class Animal:\n",
    "    def speak(self):\n",
    "        print(\"Animal speaks\")\n",
    "\n",
    "class Dog(Animal):\n",
    "    def bark(self):\n",
    "        print(\"Dog barks\")\n",
    "\n",
    "class Cat(Animal):\n",
    "    def meow(self):\n",
    "        print(\"Cat meows\")\n",
    "\n",
    "\n",
    "dog = Dog()\n",
    "cat = Cat()\n",
    "dog.speak()  \n",
    "dog.bark()   \n",
    "cat.speak() \n",
    "cat.meow()   \n"
   ]
  },
  {
   "cell_type": "code",
   "execution_count": null,
   "id": "7861e520-fa9d-4d4f-a27b-5049783540e8",
   "metadata": {},
   "outputs": [],
   "source": []
  },
  {
   "cell_type": "code",
   "execution_count": null,
   "id": "14d4959b-0680-4fc3-833a-2449ce08f105",
   "metadata": {},
   "outputs": [],
   "source": []
  },
  {
   "cell_type": "code",
   "execution_count": null,
   "id": "74f3e9ff-fad4-47b2-9f5b-e04884918d51",
   "metadata": {},
   "outputs": [],
   "source": []
  }
 ],
 "metadata": {
  "kernelspec": {
   "display_name": "Python 3 (ipykernel)",
   "language": "python",
   "name": "python3"
  },
  "language_info": {
   "codemirror_mode": {
    "name": "ipython",
    "version": 3
   },
   "file_extension": ".py",
   "mimetype": "text/x-python",
   "name": "python",
   "nbconvert_exporter": "python",
   "pygments_lexer": "ipython3",
   "version": "3.10.8"
  }
 },
 "nbformat": 4,
 "nbformat_minor": 5
}
