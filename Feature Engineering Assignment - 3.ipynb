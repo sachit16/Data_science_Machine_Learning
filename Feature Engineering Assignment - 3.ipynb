{
 "cells": [
  {
   "cell_type": "code",
   "execution_count": null,
   "id": "496b5afd-9d2f-4acd-9b08-a0e98d1c8217",
   "metadata": {},
   "outputs": [],
   "source": [
    "Q1. What is data encoding? How is it useful in data science?\n",
    "Data encoding is the process of converting categorical data (non-numeric data) into a numerical format that can be used \n",
    "by machine learning algorithms. It's useful in data science because many machine learning algorithms require numerical input. Encoding allows you\n",
    "to represent categorical data in a way that the algorithms can process, enabling you to include such information in your models."
   ]
  },
  {
   "cell_type": "code",
   "execution_count": null,
   "id": "3258086c-e48a-4f3a-8242-3957daa7147e",
   "metadata": {},
   "outputs": [],
   "source": [
    "Q.2What is nominal encoding? Provide an example of how you would use it in a real-world scenario.\n",
    "Nominal encoding, also known as label encoding, is a method of transforming categorical data into numerical values by assigning a unique integer to each category. It's typically used\n",
    "when there is no inherent order or ranking among the categories.\n",
    "\n",
    "Example:\n",
    "Imagine you're analyzing survey data about preferred modes of transportation. The dataset includes a categorical feature \"Transportation Mode\" with categories: [\"Car\", \"Bus\", \"Bicycle\", \"Train\"].\n",
    "\n",
    "To apply nominal encoding:\n",
    "1. \"Car\" might be encoded as 0.\n",
    "2. \"Bus\" could be encoded as 1.\n",
    "3. \"Bicycle\" might be encoded as 2.\n",
    "4. \"Train\" could be encoded as 3.\n",
    "\n",
    "The resulting numerical data would be: [0, 1, 2, 3, 1, 2, 0, ...], making it suitable for use in machine learning algorithms that require numeric input. Note that in nominal encoding, \n",
    "there is no inherent meaning to the numerical values assigned; they simply represent different categories."
   ]
  },
  {
   "cell_type": "code",
   "execution_count": null,
   "id": "1ebad33c-e6af-4ce2-9821-33dc8d869061",
   "metadata": {},
   "outputs": [],
   "source": [
    "Q3. In what situations is nominal encoding preferred over one-hot encoding? Provide a practical example.\n",
    "Nominal encoding is preferred over one-hot encoding when the order of the categories does not matter. For example, the categories of a color feature (red, blue, green, yellow) do not have any inherent order. \n",
    "In this case, nominal encoding would simply assign each category a unique integer value (e.g., red = 0, blue = 1, green = 2, yellow = 3). \n",
    "One-hot encoding, on the other hand, would create a new binary \n",
    "feature for each category (e.g., red_encoded = 1, blue_encoded = 0, green_encoded = 0, yellow_encoded = 0). This would result in a much larger feature space, which could lead to overfitting.\n",
    "\n",
    "Here is a practical example of when nominal encoding would be preferred over one-hot encoding. Let's say we are trying to predict the price of a house. One of the features we have is the type of house\n",
    "(single-family, condo, townhouse). The order of these categories does not matter, so nominal encoding would be the preferred choice. We could simply assign each category a unique integer value (e.g., single-family = 0, condo = 1, townhouse = 2).\n",
    "\n",
    "On the other hand, if we were trying to predict the risk of a customer defaulting on a loan, the order of the categories would matter. For example, a customer who has defaulted on a loan in the past is more likely to default again than a customer who has never defaulted. \n",
    "In this case, one-hot encoding would be the preferred choice. We would create a new binary feature for each category (e.g., defaulted_on_loan_in_past = 1, never_defaulted_on_loan = 0).\n",
    "\n",
    "In general, it is important to understand the meaning of the categories in a feature before choosing an encoding scheme. If the order of the categories does not matter, then nominal encoding is the preferred choice. If the order of the categories does matter, then one-hot \n",
    "encoding is the preferred choice."
   ]
  },
  {
   "cell_type": "code",
   "execution_count": null,
   "id": "5f776b3d-c913-40fe-b62e-0a83d74f1e14",
   "metadata": {},
   "outputs": [],
   "source": [
    "Q5. In a machine learning project, you have a dataset with 1000 rows and 5 columns. Two of the columns are categorical, and the remaining three columns are numerical. If you were to use nominal encoding to transform the categorical data, how many new columns would be created? Show your calculations.\n",
    "If you're using nominal encoding on two categorical columns in a dataset with 1000 rows and 5 columns, you would create a new column for each of these categorical columns. The new columns will contain numerical representations of the original categorical data.\n",
    "\n",
    "So, the total number of new columns created would be 2.\n",
    "\n",
    "This is because nominal encoding replaces each unique category in a column with a single integer, effectively converting it into a numerical representation. Since you have two categorical columns being encoded, you would get two new columns as a result."
   ]
  },
  {
   "cell_type": "code",
   "execution_count": null,
   "id": "5f0f0f4d-f9f2-4337-a47e-129dc450fd08",
   "metadata": {},
   "outputs": [],
   "source": [
    "Q6. You are working with a dataset containing information about different types of animals, including their species, habitat, and diet. Which encoding technique would you use to transform the categorical data into a format suitable for machine learning algorithms? Justify your answer.\n",
    "For a dataset containing information about different types of animals, including their species, habitat, and diet, you would use a combination of **one-hot encoding** and potentially **ordinal encoding** depending on the nature of the categorical data.\n",
    "\n",
    "1. **Species**: Since \"species\" is a categorical feature with no inherent order, using **one-hot encoding** is suitable. Each species would have its own binary column, allowing the machine learning algorithm to differentiate between different species without assuming any ordinal relationship.\n",
    "\n",
    "2. **Habitat**: If the \"habitat\" categories have no inherent order, again, **one-hot encoding** would be appropriate. For instance, if habitats are \"Forest,\" \"Desert,\" \"Ocean,\" and so on, each habitat would be represented by its own binary column.\n",
    "\n",
    "3. **Diet**: If the \"diet\" categories have an inherent order (e.g., \"Carnivore,\" \"Herbivore,\" \"Omnivore\"), you might use **ordinal encoding**. This method assigns integer values based on the order of categories. However, if there's no clear order, you could still use **one-hot encoding**.\n",
    "\n",
    "The justification for using one-hot encoding is to ensure that the algorithm treats each category as a separate entity and doesn't assume any numerical relationships between them. However, if any category has a meaningful order, then ordinal encoding could capture that information appropriately."
   ]
  },
  {
   "cell_type": "code",
   "execution_count": null,
   "id": "0446ef3e-2125-4992-9279-7864baaea795",
   "metadata": {},
   "outputs": [],
   "source": [
    "Q7. You are working on a project that involves predicting customer churn for a telecommunications company. You have a dataset with 5 features, including the customer's gender, age, contract type, monthly charges, and tenure. Which encoding technique(s) would you use to transform the categorical data into numerical data? Provide a step-by-step explanation of how you would implement the encoding."
   ]
  }
 ],
 "metadata": {
  "kernelspec": {
   "display_name": "Python 3 (ipykernel)",
   "language": "python",
   "name": "python3"
  },
  "language_info": {
   "codemirror_mode": {
    "name": "ipython",
    "version": 3
   },
   "file_extension": ".py",
   "mimetype": "text/x-python",
   "name": "python",
   "nbconvert_exporter": "python",
   "pygments_lexer": "ipython3",
   "version": "3.10.8"
  }
 },
 "nbformat": 4,
 "nbformat_minor": 5
}
